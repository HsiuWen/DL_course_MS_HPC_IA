{
 "cells": [
  {
   "cell_type": "markdown",
   "metadata": {
    "colab_type": "text",
    "id": "view-in-github"
   },
   "source": [
    "<a href=\"https://colab.research.google.com/github/HsiuWen/DL_course_MS_HPC_IA/blob/main/Mini_project_MS_HPC_IA.ipynb\" target=\"_parent\"><img src=\"https://colab.research.google.com/assets/colab-badge.svg\" alt=\"Open In Colab\"/></a>"
   ]
  },
  {
   "cell_type": "markdown",
   "metadata": {
    "id": "8y6ehIVfhZ7b"
   },
   "source": [
    "# Deep-Learning mini-projects for the MS HPC-IA \n",
    "\n",
    "These projects topic are prepared by the group of [center for Robotics](http://caor.mines-paristech.fr/), [MINES ParisTech](http://www.mines-paristech.fr/), [PSL Université Paris](https://www.univ-psl.fr/). Special thanks to Prof. Sascha Hornauer provided several good topics this year. \n",
    "\n",
    "Each topics has the basic description in jupter notebook. Please run this notebook not in Colab since it will not find the file in the folder. Run this description locally.\n",
    "\n",
    "You have to choose 1 of the 7 mini-projects topics below :\n",
    "\n",
    "## 1. Fine-tuning a pre-trained image classification model \n",
    "[Notebook](MiniProj_MS-HPC-IA/Fine_Tuning_With_Pseudo_Labels.ipynb)\n",
    "\n",
    "- Load a pre-trained image classification model and develop a way to evaluate it on the object detection dataset MS COCO (you need to decide on a way to accept one ore several labels as ground truth)\n",
    "\n",
    "- Create pseudo-labels with that pre-trained model for tiny imagenet images\n",
    "\n",
    "- Train a new image classification model only on MS COCO with the labeling scheme you devised (this will be model A). Take the same model architecture to train on MS COCO and your pseudo-labeled dataset.\n",
    "- Test A and B on tiny imagenet and compare the results\n",
    "- Visualize the feature space with t-SNE to see how pseudo-labeling changed the representation\n",
    "\n",
    "## 2. Image Captioning on COCO using LSTM and attention\n",
    "[Notebook](MiniProj_MS-HPC-IA/lab2025/lab4/RNN_Captioning.ipynb)\n",
    " - Reuse the code provided in lab1. \n",
    " - Finish the functions of LSTM in rnn_layer.py\n",
    " - Train these models and compare the results\n",
    " - Add attention to your RNN and compare the results\n",
    "\n",
    "## 3. IMDB Sentiment Analysis\n",
    "\n",
    "[Notebook](MiniProj_MS-HPC-IA/IMDB_Sentiment_Analysis.ipynb)\n",
    "\n",
    "- Classify individual words as positive, negative or neutral based on sentence-level sentiment labels\n",
    "- You will use the IMDB Sentiment dataset which has labels for sentences\n",
    "- You will need to develop a schema to assign labels to individual words using that fuzzy sentence annotation\n",
    "- Create a dataset of words and sentiment\n",
    "- Finally, you train an NLP model on your dataset\n",
    "- The model can take in only the words or word and sentence.\n",
    "- Evaluate the model. Show the words where the model is most often right and on which it often fails. Investigate in detail the performance. \n",
    "- Form hypotheses on how your ground truth labeling schema impacts the model's performance. \n",
    "\n",
    "\n",
    "## 4. Autoencoder from Fashion to CIFAR\n",
    "[Notebook](MiniProj_MS-HPC-IA/Autoencoder_FashionMNIST_CIFAR100.ipynb)\n",
    "\n",
    "- Create an Autoencoder training pipeline with Fashion MNIST which allows to create hybrid classes. That means the Autoencoder first needs to learn to reconstruct e.g. shoes and shirts to an acceptable level. Then you should find the centroid of the representations in the feature space and by choosing an vector between two centroids, you should create hybrids between shoes and shirts.\n",
    "- Finally, this existing pipeline should be used on CIFAR to create hybrids between classes\n",
    "- This is a task without quantifiable results, and good documentation and finding good qualitative examples are the most important.\n",
    "\n",
    "\n",
    "## 5. Cycle-GAN for Horse-toCat Style Transfer\n",
    "[Notebook](MiniProj_MS-HPC-IA/Exercise_Notebook_Cycle_GAN.ipynb)\n",
    "- Train and optimize a cycle GAN to implement an approach that takes in horse images and transforms them into Cats\n",
    "\n",
    "\n",
    "## 6. Reinforement learning project\n",
    "\n",
    "As described in Lab5_reinforcement_learning_Q.ipynb\n",
    "[Notebook](../lab2025/Lab5_reinforcement_learning_Q.ipynb)\n",
    "\n",
    "Implement [DQN](https://pytorch.org/tutorials/intermediate/reinforcement_q_learning.html) on one of the Atari game (find the one that is challenging!)\n",
    "\n",
    "\n",
    "## 7. Predict the location of the user in indoor area with only inertial measurement unit\n",
    "\n",
    "[Notebook](MiniProj_MS-HPC-IA/Localization_smartphone_sensor/ML_smartphone_pdr.ipynb)\n",
    "- Input data is one seconds of acceleration and angular rate data. \n",
    "- Output data is the speed and the heading of the user. \n",
    "- Your goal is to revise the output layer and compare the result between CNN and LSTM\n",
    "\n",
    "\n"
   ]
  },
  {
   "cell_type": "markdown",
   "metadata": {
    "id": "0a2pq75LMhzJ"
   },
   "source": [
    "## What to submit?\n"
   ]
  },
  {
   "cell_type": "markdown",
   "metadata": {
    "id": "ysRG_Z2-kxhJ"
   },
   "source": [
    "In all cases, the result of your mini-project work should be\n",
    "provided as a NOTEBOOK containing \n",
    "1. runnable *code with execution results*\n",
    "2. text cells constains (a) explanation of DL training (b) analysis. (c) Summary of obtained results\n",
    "\n",
    "This notebook should be sent by e-mail at hsiu-wen.chang_joly@mines-paristech.fr\n",
    "\n",
    "Deadline: 01, Mar., 2025"
   ]
  },
  {
   "cell_type": "code",
   "execution_count": null,
   "metadata": {
    "id": "GXXaZhA0hUTM"
   },
   "outputs": [],
   "source": []
  }
 ],
 "metadata": {
  "colab": {
   "authorship_tag": "ABX9TyPBvZvYt2LVjTHmlt2leViL",
   "include_colab_link": true,
   "name": "Mini project MS HPC-IA.ipynb",
   "provenance": []
  },
  "kernelspec": {
   "display_name": "Python 3 (ipykernel)",
   "language": "python",
   "name": "python3"
  },
  "language_info": {
   "codemirror_mode": {
    "name": "ipython",
    "version": 3
   },
   "file_extension": ".py",
   "mimetype": "text/x-python",
   "name": "python",
   "nbconvert_exporter": "python",
   "pygments_lexer": "ipython3",
   "version": "3.7.12"
  },
  "vscode": {
   "interpreter": {
    "hash": "916dbcbb3f70747c44a77c7bcd40155683ae19c65e1c03b4aa3499c5328201f1"
   }
  }
 },
 "nbformat": 4,
 "nbformat_minor": 1
}

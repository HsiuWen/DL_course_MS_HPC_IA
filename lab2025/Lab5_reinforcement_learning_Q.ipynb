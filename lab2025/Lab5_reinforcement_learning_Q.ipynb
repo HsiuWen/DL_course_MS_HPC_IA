{
 "cells": [
  {
   "cell_type": "markdown",
   "metadata": {
    "colab_type": "text",
    "id": "view-in-github"
   },
   "source": [
    "<a href=\"https://colab.research.google.com/github/HsiuWen/DL_course_MS_HPC_IA/blob/main/Lab5_reinforcement_learning_Q.ipynb\" target=\"_parent\"><img src=\"https://colab.research.google.com/assets/colab-badge.svg\" alt=\"Open In Colab\"/></a>"
   ]
  },
  {
   "cell_type": "markdown",
   "metadata": {
    "id": "TleCCL460AqV"
   },
   "source": [
    "# Lab 5 Implementation of q-learning on simulated game\n",
    "\n",
    "This notebook has been prepared by Hsiu-Wen Chang from MINES ParisTech. Last updated at 31 Jan 2023\n",
    "Shall you have any problem, send me [email](hsiu-wen.chang_joly@mines-paristech.fr)\n",
    "\n",
    "In this practical lesson, we are going to implement the reinforcement learning using Q-learning. We are going to train it on how to play a mountain car. The agent (a car) is started at the bottom of a valley. For any given state the agent may choose to accelerate to the left, right or cease any acceleration.\n",
    "        \n",
    "\n",
    "1. The observation space contains two values (car position and car velocity)\n",
    "2. The available actions are:\n",
    "    0: push left\n",
    "    1: nothing\n",
    "    2: push right\n",
    "3. If the car reaches the flag, the game is over\n",
    "4. If the car takes one action and failes to reach the flag, the penalty -1 will be given. \n"
   ]
  },
  {
   "cell_type": "markdown",
   "metadata": {},
   "source": [
    "## Information about each game:\n",
    "Please visit this website to read the informaiton: https://gymnasium.farama.org/\n",
    "\n",
    "offical git hub of this new version of gym: https://github.com/Farama-Foundation/Gymnasium\n"
   ]
  },
  {
   "cell_type": "code",
   "execution_count": 1,
   "metadata": {
    "collapsed": true,
    "id": "Z7hCi7AVDo-2"
   },
   "outputs": [
    {
     "name": "stdout",
     "output_type": "stream",
     "text": [
      "Requirement already satisfied: gymnasium[accept-rom-license,atari] in /home/kellyjoly/enter/envs/HPC_IA_env/lib/python3.9/site-packages (0.27.1)\n",
      "Requirement already satisfied: gymnasium-notices>=0.0.1 in /home/kellyjoly/enter/envs/HPC_IA_env/lib/python3.9/site-packages (from gymnasium[accept-rom-license,atari]) (0.0.1)\n",
      "Requirement already satisfied: jax-jumpy>=0.2.0 in /home/kellyjoly/enter/envs/HPC_IA_env/lib/python3.9/site-packages (from gymnasium[accept-rom-license,atari]) (0.2.0)\n",
      "Requirement already satisfied: importlib-metadata>=4.8.0 in /home/kellyjoly/enter/envs/HPC_IA_env/lib/python3.9/site-packages (from gymnasium[accept-rom-license,atari]) (5.0.0)\n",
      "Requirement already satisfied: numpy>=1.21.0 in /home/kellyjoly/enter/envs/HPC_IA_env/lib/python3.9/site-packages (from gymnasium[accept-rom-license,atari]) (1.23.4)\n",
      "Requirement already satisfied: typing-extensions>=4.3.0 in /home/kellyjoly/enter/envs/HPC_IA_env/lib/python3.9/site-packages (from gymnasium[accept-rom-license,atari]) (4.4.0)\n",
      "Requirement already satisfied: cloudpickle>=1.2.0 in /home/kellyjoly/enter/envs/HPC_IA_env/lib/python3.9/site-packages (from gymnasium[accept-rom-license,atari]) (2.2.1)\n",
      "Requirement already satisfied: autorom[accept-rom-license]~=0.4.2 in /home/kellyjoly/enter/envs/HPC_IA_env/lib/python3.9/site-packages (from gymnasium[accept-rom-license,atari]) (0.4.2)\n",
      "Requirement already satisfied: shimmy[atari]<1.0,>=0.1.0 in /home/kellyjoly/enter/envs/HPC_IA_env/lib/python3.9/site-packages (from gymnasium[accept-rom-license,atari]) (0.2.0)\n",
      "Requirement already satisfied: requests in /home/kellyjoly/enter/envs/HPC_IA_env/lib/python3.9/site-packages (from autorom[accept-rom-license]~=0.4.2->gymnasium[accept-rom-license,atari]) (2.28.2)\n",
      "Requirement already satisfied: tqdm in /home/kellyjoly/enter/envs/HPC_IA_env/lib/python3.9/site-packages (from autorom[accept-rom-license]~=0.4.2->gymnasium[accept-rom-license,atari]) (4.64.1)\n",
      "Requirement already satisfied: click in /home/kellyjoly/enter/envs/HPC_IA_env/lib/python3.9/site-packages (from autorom[accept-rom-license]~=0.4.2->gymnasium[accept-rom-license,atari]) (8.1.3)\n",
      "Requirement already satisfied: AutoROM.accept-rom-license in /home/kellyjoly/enter/envs/HPC_IA_env/lib/python3.9/site-packages (from autorom[accept-rom-license]~=0.4.2->gymnasium[accept-rom-license,atari]) (0.5.4)\n",
      "Requirement already satisfied: zipp>=0.5 in /home/kellyjoly/enter/envs/HPC_IA_env/lib/python3.9/site-packages (from importlib-metadata>=4.8.0->gymnasium[accept-rom-license,atari]) (3.10.0)\n",
      "Requirement already satisfied: ale-py~=0.8.0 in /home/kellyjoly/enter/envs/HPC_IA_env/lib/python3.9/site-packages (from shimmy[atari]<1.0,>=0.1.0->gymnasium[accept-rom-license,atari]) (0.8.0)\n",
      "Requirement already satisfied: importlib-resources in /home/kellyjoly/enter/envs/HPC_IA_env/lib/python3.9/site-packages (from ale-py~=0.8.0->shimmy[atari]<1.0,>=0.1.0->gymnasium[accept-rom-license,atari]) (5.10.0)\n",
      "Requirement already satisfied: libtorrent in /home/kellyjoly/enter/envs/HPC_IA_env/lib/python3.9/site-packages (from AutoROM.accept-rom-license->autorom[accept-rom-license]~=0.4.2->gymnasium[accept-rom-license,atari]) (2.0.7)\n",
      "Requirement already satisfied: idna<4,>=2.5 in /home/kellyjoly/enter/envs/HPC_IA_env/lib/python3.9/site-packages (from requests->autorom[accept-rom-license]~=0.4.2->gymnasium[accept-rom-license,atari]) (3.4)\n",
      "Requirement already satisfied: certifi>=2017.4.17 in /home/kellyjoly/enter/envs/HPC_IA_env/lib/python3.9/site-packages (from requests->autorom[accept-rom-license]~=0.4.2->gymnasium[accept-rom-license,atari]) (2022.12.7)\n",
      "Requirement already satisfied: charset-normalizer<4,>=2 in /home/kellyjoly/enter/envs/HPC_IA_env/lib/python3.9/site-packages (from requests->autorom[accept-rom-license]~=0.4.2->gymnasium[accept-rom-license,atari]) (2.1.1)\n",
      "Requirement already satisfied: urllib3<1.27,>=1.21.1 in /home/kellyjoly/enter/envs/HPC_IA_env/lib/python3.9/site-packages (from requests->autorom[accept-rom-license]~=0.4.2->gymnasium[accept-rom-license,atari]) (1.26.14)\n",
      "Requirement already satisfied: gymnasium[classic-control] in /home/kellyjoly/enter/envs/HPC_IA_env/lib/python3.9/site-packages (0.27.1)\n",
      "Requirement already satisfied: importlib-metadata>=4.8.0 in /home/kellyjoly/enter/envs/HPC_IA_env/lib/python3.9/site-packages (from gymnasium[classic-control]) (5.0.0)\n",
      "Requirement already satisfied: typing-extensions>=4.3.0 in /home/kellyjoly/enter/envs/HPC_IA_env/lib/python3.9/site-packages (from gymnasium[classic-control]) (4.4.0)\n",
      "Requirement already satisfied: numpy>=1.21.0 in /home/kellyjoly/enter/envs/HPC_IA_env/lib/python3.9/site-packages (from gymnasium[classic-control]) (1.23.4)\n",
      "Requirement already satisfied: jax-jumpy>=0.2.0 in /home/kellyjoly/enter/envs/HPC_IA_env/lib/python3.9/site-packages (from gymnasium[classic-control]) (0.2.0)\n",
      "Requirement already satisfied: gymnasium-notices>=0.0.1 in /home/kellyjoly/enter/envs/HPC_IA_env/lib/python3.9/site-packages (from gymnasium[classic-control]) (0.0.1)\n",
      "Requirement already satisfied: cloudpickle>=1.2.0 in /home/kellyjoly/enter/envs/HPC_IA_env/lib/python3.9/site-packages (from gymnasium[classic-control]) (2.2.1)\n",
      "Requirement already satisfied: pygame==2.1.3.dev8 in /home/kellyjoly/enter/envs/HPC_IA_env/lib/python3.9/site-packages (from gymnasium[classic-control]) (2.1.3.dev8)\n",
      "Requirement already satisfied: zipp>=0.5 in /home/kellyjoly/enter/envs/HPC_IA_env/lib/python3.9/site-packages (from importlib-metadata>=4.8.0->gymnasium[classic-control]) (3.10.0)\n"
     ]
    }
   ],
   "source": [
    "!pip install gymnasium[atari,accept-rom-license]\n",
    "!pip install gymnasium[classic-control]\n"
   ]
  },
  {
   "cell_type": "markdown",
   "metadata": {
    "id": "EQfDL_UEMLxH"
   },
   "source": [
    "[OpenAI Gym](https://gym.openai.com/docs/) aims to provide an easy-to-setup general-intelligence benchmark with a wide variety of different environments. The goal is to standardize how environments are defined in AI research publications so that published research becomes more easily reproducible. The project claims to provide the user with a simple interface. As of June 2017, developers can only use Gym with Python."
   ]
  },
  {
   "cell_type": "code",
   "execution_count": 2,
   "metadata": {
    "id": "P3TwgkwazweP"
   },
   "outputs": [
    {
     "name": "stderr",
     "output_type": "stream",
     "text": [
      "/home/kellyjoly/enter/envs/HPC_IA_env/lib/python3.9/site-packages/gymnasium/envs/registration.py:521: UserWarning: \u001b[33mWARN: Overriding environment GymV26Environment-v0 already in registry.\u001b[0m\n",
      "  logger.warn(f\"Overriding environment {new_spec.id} already in registry.\")\n",
      "/home/kellyjoly/enter/envs/HPC_IA_env/lib/python3.9/site-packages/gymnasium/envs/registration.py:521: UserWarning: \u001b[33mWARN: Overriding environment GymV22Environment-v0 already in registry.\u001b[0m\n",
      "  logger.warn(f\"Overriding environment {new_spec.id} already in registry.\")\n"
     ]
    }
   ],
   "source": [
    "import gymnasium as gym\n",
    "import numpy as np\n",
    "import matplotlib.pyplot as plt\n",
    "from IPython import display as ipythondisplay\n",
    "\n",
    "game_name = 'MountainCar-v0'\n",
    "#game_name = 'ALE/Pong-v5'\n",
    "env = gym.make(game_name, render_mode = 'rgb_array')"
   ]
  },
  {
   "cell_type": "code",
   "execution_count": 3,
   "metadata": {
    "colab": {
     "background_save": true
    },
    "id": "mJTgnbn-MKi4"
   },
   "outputs": [],
   "source": [
    "def query_environment(name):\n",
    "    env = gym.make(name)\n",
    "    spec = gym.spec(name)\n",
    "    print(f\"Action Space: {env.action_space}\")\n",
    "    print(f\"Observation Space: {env.observation_space}\")\n",
    "    print(f\"Max Episode Steps: {spec.max_episode_steps}\")\n",
    "    print(f\"Nondeterministic: {spec.nondeterministic}\")\n",
    "    print(f\"Reward Range: {env.reward_range}\")\n",
    "    print(f\"Reward Threshold: {spec.reward_threshold}\")"
   ]
  },
  {
   "cell_type": "code",
   "execution_count": 4,
   "metadata": {
    "colab": {
     "background_save": true
    },
    "id": "qz4sbst0MgvQ"
   },
   "outputs": [
    {
     "name": "stdout",
     "output_type": "stream",
     "text": [
      "Action Space: Discrete(3)\n",
      "Observation Space: Box([-1.2  -0.07], [0.6  0.07], (2,), float32)\n",
      "Max Episode Steps: 200\n",
      "Nondeterministic: False\n",
      "Reward Range: (-inf, inf)\n",
      "Reward Threshold: -110.0\n"
     ]
    }
   ],
   "source": [
    "query_environment(game_name)"
   ]
  },
  {
   "cell_type": "markdown",
   "metadata": {},
   "source": [
    "### The description of this game can be found in: https://gymnasium.farama.org/environments/classic_control/mountain_car/\n",
    "1. State: [position in x direction, velocity]\n",
    "2. Action: [accelerate to the left, don't accelerate, accelerate to the right]"
   ]
  },
  {
   "cell_type": "code",
   "execution_count": 5,
   "metadata": {
    "id": "ecIlAPzSEu16"
   },
   "outputs": [
    {
     "name": "stdout",
     "output_type": "stream",
     "text": [
      "Reached epochs.\n"
     ]
    },
    {
     "data": {
      "image/png": "[encoded data removed]",
      "text/plain": [
       "<Figure size 432x288 with 1 Axes>"
      ]
     },
     "metadata": {
      "needs_background": "light"
     },
     "output_type": "display_data"
    }
   ],
   "source": [
    "env.reset()\n",
    "\n",
    "prev_screen = env.render()\n",
    "plt.imshow(prev_screen)\n",
    "\n",
    "for i in range(50):\n",
    "    action = env.action_space.sample()\n",
    "    observation, reward, terminated, truncated, info = env.step(action)\n",
    "    screen = env.render()\n",
    "    plt.imshow(screen)\n",
    "    ipythondisplay.clear_output(wait=True)\n",
    "    ipythondisplay.display(plt.gcf())\n",
    "    if terminated or truncated:\n",
    "        observation, info = env.reset()\n",
    "        print('game terminated.')\n",
    "\n",
    "\n",
    "ipythondisplay.clear_output(wait=True)\n",
    "env.close()\n",
    "\n",
    "print('Reached epochs.')"
   ]
  },
  {
   "cell_type": "markdown",
   "metadata": {
    "id": "pTbOEoEq4ro9"
   },
   "source": [
    "Now we need to define our search space for the q matrix. Here we use the range of observation_space and divided by resolution 20"
   ]
  },
  {
   "cell_type": "code",
   "execution_count": 6,
   "metadata": {
    "id": "flxxoUZi2Xu2"
   },
   "outputs": [
    {
     "name": "stdout",
     "output_type": "stream",
     "text": [
      "Highest number [0.6  0.07]\n",
      "Lowest number [-1.2  -0.07]\n",
      "[20, 20]\n"
     ]
    }
   ],
   "source": [
    "DISCRETE_OS_SIZE = [20]*len(env.observation_space.high)\n",
    "print('Highest number {}'.format(env.observation_space.high))\n",
    "print('Lowest number {}'.format(env.observation_space.low))\n",
    "discrete_os_win_size = (env.observation_space.high-env.observation_space.low)/DISCRETE_OS_SIZE\n",
    "print(DISCRETE_OS_SIZE)"
   ]
  },
  {
   "cell_type": "markdown",
   "metadata": {
    "id": "WT0EdWaO52Li"
   },
   "source": [
    "Here are the parameters that control the way to learn. \n",
    "We apply the idea of epsilon decay that help use to decrease the chance to do random behavior for exploration. "
   ]
  },
  {
   "cell_type": "code",
   "execution_count": 7,
   "metadata": {
    "id": "-r0I7VT_2P5d"
   },
   "outputs": [
    {
     "name": "stdout",
     "output_type": "stream",
     "text": [
      "END_EPSILON_DECAYING:2000\n",
      "(20, 20, 3)\n"
     ]
    }
   ],
   "source": [
    "# training parameter\n",
    "LEARNING_RATE = 0.1\n",
    "DISCOUNT = 0.95 # the weight of how to meausre the future reward vs current reward. [0.1]\n",
    "EPISODES = 4000 # training epochs\n",
    "SHOW_EVERY = 500 #show information every 500 loops\n",
    "\n",
    "epsilon = 0.5 #[0~1] higher value for higher random for exploration behavior\n",
    "START_EPSILON_DECAYING = 1\n",
    "END_EPSILON_DECAYING = EPISODES // 2\n",
    "print('END_EPSILON_DECAYING:{}'.format(END_EPSILON_DECAYING))\n",
    "epsilon_decay_value = epsilon/(END_EPSILON_DECAYING-START_EPSILON_DECAYING)\n",
    "\n",
    "# Now we create a Q(s,a) matrix with random values\n",
    "q_table = np.random.uniform(low=-2,high=0,size = (DISCRETE_OS_SIZE+[env.action_space.n]))\n",
    "print(q_table.shape)\n",
    "ep_rewards = []\n",
    "aggr_ep_rewards = {'ep':[],'avg':[],'min':[],'max':[]}"
   ]
  },
  {
   "cell_type": "markdown",
   "metadata": {
    "id": "AVTHJFea5xvC"
   },
   "source": [
    "To simply the task, we discrete the state to match the q-matrix we have"
   ]
  },
  {
   "cell_type": "code",
   "execution_count": 8,
   "metadata": {
    "id": "ur5nYXYQ4_pV"
   },
   "outputs": [],
   "source": [
    "def get_discrete_state(state):\n",
    "    discrete_state = (state-env.observation_space.low)/discrete_os_win_size\n",
    "    return tuple(discrete_state.astype(int))"
   ]
  },
  {
   "cell_type": "code",
   "execution_count": 9,
   "metadata": {
    "id": "kvJcY2w-8u3J"
   },
   "outputs": [],
   "source": [
    "# Create a folder to save the q table\n",
    "!mkdir qtables"
   ]
  },
  {
   "cell_type": "markdown",
   "metadata": {
    "id": "oIHweObp64X2"
   },
   "source": [
    "# Now we start to train the agent"
   ]
  },
  {
   "cell_type": "code",
   "execution_count": 10,
   "metadata": {
    "id": "wL8Zz3hR63XZ"
   },
   "outputs": [
    {
     "name": "stdout",
     "output_type": "stream",
     "text": [
      "Episode: 0 average reward:-4421.0 min reward:-4421.0 max reward:-4421.0\n",
      "Episode: 500 average reward:-593.044 min reward:-13990.0 max reward:-191.0\n",
      "Episode: 1000 average reward:-273.452 min reward:-622.0 max reward:-157.0\n",
      "Episode: 1500 average reward:-230.976 min reward:-667.0 max reward:-143.0\n",
      "Episode: 2000 average reward:-191.922 min reward:-781.0 max reward:-113.0\n",
      "Episode: 2500 average reward:-169.572 min reward:-548.0 max reward:-117.0\n",
      "Episode: 3000 average reward:-174.98 min reward:-723.0 max reward:-110.0\n",
      "Episode: 3500 average reward:-160.692 min reward:-244.0 max reward:-91.0\n"
     ]
    }
   ],
   "source": [
    "for episode in range(EPISODES):\n",
    "    episode_reward = 0\n",
    "\n",
    "    # Don't do render in Colab or notebook because it is going to slow down the training!\n",
    "    render = False\n",
    "\n",
    "    #if episode % SHOW_EVERY == 0 :\n",
    "    #    print(episode)\n",
    "    #    render = True\n",
    "    #else:\n",
    "    #    render = False\n",
    "\n",
    "    # Restart the game\n",
    "    state, info = env.reset()\n",
    "    discrete_state = get_discrete_state(state)\n",
    "\n",
    "    terminated = False\n",
    "    while not terminated:\n",
    "        # Take the action randomly if the we pick up a random number bigger than epsilon, otherwise we use q table to see which action has the highest value\n",
    "        if np.random.random() > epsilon:\n",
    "            action = np.argmax(q_table[discrete_state]) # exploitation\n",
    "        else:\n",
    "            action = np.random.randint(0,env.action_space.n) #exploration\n",
    "\n",
    "        # Given this new action a, we act with the environment to get the new state,our reward and flag to tell us if the game finish\n",
    "        new_state, reward, terminated, _, _ = env.step(action)\n",
    "        \n",
    "        # Accumuated reward\n",
    "        episode_reward += reward\n",
    "\n",
    "        new_discrete_state = get_discrete_state(new_state)\n",
    "\n",
    "        if render:\n",
    "            env.render()\n",
    "\n",
    "        if not terminated:\n",
    "            max_future_q = np.max(q_table[new_discrete_state])\n",
    "            current_q = q_table[discrete_state + (action,)]\n",
    "            new_q = (1-LEARNING_RATE)*current_q+LEARNING_RATE*(reward+DISCOUNT*max_future_q)\n",
    "            q_table[discrete_state+(action,)] = new_q\n",
    "        elif new_state[0] >= env.goal_position:\n",
    "            q_table[discrete_state+(action,)]=0\n",
    "\n",
    "        discrete_state = new_discrete_state\n",
    "\n",
    "    if END_EPSILON_DECAYING >= episode >= START_EPSILON_DECAYING:\n",
    "        epsilon -= epsilon_decay_value\n",
    "\n",
    "    ep_rewards.append(episode_reward)\n",
    "\n",
    "    if not episode % SHOW_EVERY:\n",
    "        np.save(f'qtables/{episode}-qtable.npy',q_table)\n",
    "        average_reward = sum(ep_rewards[-SHOW_EVERY:])/len(ep_rewards[-SHOW_EVERY:])\n",
    "        aggr_ep_rewards['ep'].append(episode)\n",
    "        aggr_ep_rewards['avg'].append(average_reward)\n",
    "        aggr_ep_rewards['min'].append(min(ep_rewards[-SHOW_EVERY:]))\n",
    "        aggr_ep_rewards['max'].append(max(ep_rewards[-SHOW_EVERY:]))\n",
    "        \n",
    "        print(f\"Episode: {episode} average reward:{average_reward} min reward:{min(ep_rewards[-SHOW_EVERY:])} max reward:{max(ep_rewards[-SHOW_EVERY:])}\")\n"
   ]
  },
  {
   "cell_type": "markdown",
   "metadata": {
    "id": "4uMG1ioY_HKp"
   },
   "source": [
    "We can see the history about the reward "
   ]
  },
  {
   "cell_type": "code",
   "execution_count": null,
   "metadata": {
    "id": "mCToSS9X7C06"
   },
   "outputs": [],
   "source": [
    "env.close()\n",
    "\n",
    "plt.plot(aggr_ep_rewards['ep'], aggr_ep_rewards['avg'],label='avg')\n",
    "plt.plot(aggr_ep_rewards['ep'], aggr_ep_rewards['min'],label='min')\n",
    "plt.plot(aggr_ep_rewards['ep'], aggr_ep_rewards['max'],label='max')\n",
    "plt.legend(loc=4)\n",
    "plt.show()"
   ]
  },
  {
   "cell_type": "markdown",
   "metadata": {
    "id": "1vULE9_RAcAa"
   },
   "source": [
    "### Task 1: Try to play with the parameter. For example\n",
    "\n",
    "1. epsilon like END_EPSILON_DECAYING and see if you can make the training better\n",
    "2. Resolution for the DISCRETE_OS_SIZE\n",
    "3. Increase the epochs "
   ]
  },
  {
   "cell_type": "markdown",
   "metadata": {
    "id": "EJXxrkaQBg7N"
   },
   "source": [
    "# Visualization\n"
   ]
  },
  {
   "cell_type": "markdown",
   "metadata": {
    "id": "kJDfbWvWIeix"
   },
   "source": [
    "If you run gym on Colab, you can't just use render function to see the game. Here is a tricky way to plot it in notebook.\n",
    "\n",
    "You can revise the code to see the behavior of your model"
   ]
  },
  {
   "cell_type": "markdown",
   "metadata": {
    "id": "h4tYdOZgIzFG"
   },
   "source": [
    "Here is code that shows us the Q table"
   ]
  },
  {
   "cell_type": "code",
   "execution_count": null,
   "metadata": {
    "id": "2nv7NT3a_cPX"
   },
   "outputs": [],
   "source": [
    "from mpl_toolkits.mplot3d import axes3d\n",
    "import matplotlib.pyplot as plt\n",
    "from matplotlib import style\n",
    "import numpy as np\n",
    "\n",
    "style.use('ggplot')\n",
    "\n",
    "def get_q_color(value, vals):\n",
    "    if value == max(vals):\n",
    "        return \"green\", 1.0\n",
    "    else:\n",
    "        return \"red\", 0.3\n",
    "\n",
    "\n",
    "fig = plt.figure(figsize=(12, 9))\n",
    "\n",
    "ax1 = fig.add_subplot(311)\n",
    "ax2 = fig.add_subplot(312)\n",
    "ax3 = fig.add_subplot(313)\n",
    "\n",
    "i = 3500\n",
    "q_table = np.load(f\"qtables/{i}-qtable.npy\")\n",
    "\n",
    "\n",
    "for x, x_vals in enumerate(q_table):\n",
    "    for y, y_vals in enumerate(x_vals):\n",
    "        ax1.scatter(x, y, c=get_q_color(y_vals[0], y_vals)[0], marker=\"o\", alpha=get_q_color(y_vals[0], y_vals)[1])\n",
    "        ax2.scatter(x, y, c=get_q_color(y_vals[1], y_vals)[0], marker=\"o\", alpha=get_q_color(y_vals[1], y_vals)[1])\n",
    "        ax3.scatter(x, y, c=get_q_color(y_vals[2], y_vals)[0], marker=\"o\", alpha=get_q_color(y_vals[2], y_vals)[1])\n",
    "\n",
    "        ax1.set_ylabel(\"Action 0\")\n",
    "        ax2.set_ylabel(\"Action 1\")\n",
    "        ax3.set_ylabel(\"Action 2\")\n",
    "\n",
    "\n",
    "plt.show()"
   ]
  },
  {
   "cell_type": "markdown",
   "metadata": {
    "id": "ucQDm4T1lAyp"
   },
   "source": [
    "### Task 2: Another better idea to visualize the q-table: \n",
    "\n",
    "(1) scaled the q_table to values from 0 to 1 values\n",
    "\n",
    "(2) Since in this game we have three actions, we can see them like RGB images  (remember the q_table is a 3 channel 20*20 matrix. Try to use imshow to see how the q values changes through episoide\n"
   ]
  },
  {
   "cell_type": "markdown",
   "metadata": {
    "id": "mYMVYxZ8cDtQ"
   },
   "source": [
    "# Deep Q Network(DQN)\n",
    "\n",
    "With DQNs, instead of a Q Table to look up values, you have a model that you inference (make predictions from), and rather than updating the Q table, you fit (train) your model.\n",
    "\n",
    "It is a regression model which typically output values for each of our possible action. DQN acts with the environment will predict to find next movement.\n",
    "\n",
    "Here is a simple equation we can use to do training\n",
    "\n",
    "![image.png](data:image/png;base64,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)"
   ]
  },
  {
   "attachments": {},
   "cell_type": "markdown",
   "metadata": {
    "id": "WOq-q4CffIEp"
   },
   "source": [
    "## Mini-project topic: DQN with input as a image\n",
    "\n",
    "To better understand how we can feed a higher dimension states to reinforcement learning, we can use image as input but with the help of CNN to extract better features. Read this document to see how and implement it here. Then implement DQN on of the Atari game and show your experience in improving your DQN\n",
    "\n",
    "\n",
    "Attention: you might face serveral issues to install Atari in google colab or notebook. (Usually caused by the version). Install it in your local computer is recommended.\n",
    "\n",
    "[DQN tutorial](https://pytorch.org/tutorials/intermediate/reinforcement_q_learning.html)\n",
    "\n",
    "What to expect in your report:\n",
    "1) a trained agent that can play the game properly as well as a video\n",
    "2) logs to show your training process and different performance of archectures \n"
   ]
  },
  {
   "cell_type": "code",
   "execution_count": null,
   "metadata": {
    "id": "yOmQSHc6f3gj"
   },
   "outputs": [],
   "source": []
  }
 ],
 "metadata": {
  "colab": {
   "authorship_tag": "ABX9TyMZyv6PMy1K+4ed4GxYngjD",
   "collapsed_sections": [],
   "include_colab_link": true,
   "name": "Lab5_reinforcement_learning_Q.ipynb",
   "provenance": []
  },
  "kernelspec": {
   "display_name": "Python 3",
   "language": "python",
   "name": "python3"
  },
  "language_info": {
   "codemirror_mode": {
    "name": "ipython",
    "version": 3
   },
   "file_extension": ".py",
   "mimetype": "text/x-python",
   "name": "python",
   "nbconvert_exporter": "python",
   "pygments_lexer": "ipython3",
   "version": "3.10.6"
  }
 },
 "nbformat": 4,
 "nbformat_minor": 1
}

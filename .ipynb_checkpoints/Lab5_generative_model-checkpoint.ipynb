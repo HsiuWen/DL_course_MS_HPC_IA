{
 "cells": [
  {
   "cell_type": "markdown",
   "id": "expanded-defensive",
   "metadata": {},
   "source": [
    "# Autoencoder\n",
    "\n",
    "Encoder is the process that produce `new features` representation from the `old features`, either by selection or extraction, and decoder the reverse process. When the dimension of the new features (n_d) is relative low compare to the dimension of the old feature (n_e), we call this Dimensionality reduction. This is a popular processfor for data compression such as video, audio, etc. The main purpose of dimensionality reduction method is to find the best encoder/decoder pair among a give family. \n",
    "\n",
    "Hereafter, we denote E and D as the families of encoders and decoder, respectively. We define the reconstruction error measure between the input data x and the encoder data d(e(x)) as $\\epsilon(x,d(e(x))$. Then we can formulate this problem as:\n",
    "\n",
    "$$(e^*,d^*) = \\underset{(e,d)\\in ExD}{\\operatorname{argmax}}{\\epsilon(x, d(e(x)))}$$\n",
    "\n",
    "The general idea of autoencoders is simple that we try to learn the best encorder and decoder as neural networks using an iterative optimisation processs. "
   ]
  },
  {
   "cell_type": "code",
   "execution_count": 14,
   "id": "global-sleeping",
   "metadata": {},
   "outputs": [],
   "source": [
    "import numpy as np\n",
    "import torch\n",
    "import torchvision\n",
    "import matplotlib.pyplot as plt\n",
    "import copy\n",
    "import torch.nn as nn\n",
    "import torch.nn.functional as F\n",
    "import os"
   ]
  },
  {
   "cell_type": "markdown",
   "id": "noticed-assault",
   "metadata": {},
   "source": [
    "Now let's try to do this on MINST images of digits. Note that the size of the image is 28x28 pixels. To accelerate the training process, we can use transformation functions in torchvision. Here we will apply normalization"
   ]
  },
  {
   "cell_type": "code",
   "execution_count": 21,
   "id": "auburn-drinking",
   "metadata": {},
   "outputs": [
    {
     "name": "stdout",
     "output_type": "stream",
     "text": [
      "['.git', '.ipynb_checkpoints', 'files', 'imagenet_classes.txt', 'input.jpg', 'input2.jpg', 'input3.jpg', 'L1b_what_NN_see_input.ipynb', 'L1_Introduction_CNN_MNIST.ipynb', 'L2_Object_detection_and_tracking.ipynb', 'Lab5_generative_model.ipynb', 'Lb3_RNN_LSTM_language.ipynb', 'Lb4_reinforcement_learning_Q.ipynb', 'MiniProj_MS-HPC-IA', 'Mini_project_MS_HPC_IA.ipynb', 'README.md', 'Seq_to_Seq.png', 'session1_convnet.pdf', 'session2_detection.pdf', 'session3_RNN.pdf', 'session4_RL.pdf', 'session5_deep_generative_model.pdf']\n"
     ]
    }
   ],
   "source": [
    "print(os.listdir())"
   ]
  },
  {
   "cell_type": "code",
   "execution_count": 24,
   "id": "infectious-indianapolis",
   "metadata": {
    "scrolled": true
   },
   "outputs": [],
   "source": [
    "batch_size_train = 10\n",
    "batch_size_test = 100\n",
    "\n",
    "train_loader = torch.utils.data.DataLoader(\n",
    "  torchvision.datasets.MNIST('~/files/', train=True, download=True,\n",
    "                             transform=torchvision.transforms.Compose([\n",
    "                               torchvision.transforms.ToTensor(),\n",
    "                               torchvision.transforms.Normalize(\n",
    "                                 (0.1307,), (0.3081,))\n",
    "                             ])),\n",
    "  batch_size=batch_size_train, shuffle=True)\n",
    "\n",
    "test_loader = torch.utils.data.DataLoader(\n",
    "  torchvision.datasets.MNIST('~/files/', train=False, download=True,\n",
    "                             transform=torchvision.transforms.Compose([\n",
    "                               torchvision.transforms.ToTensor(),\n",
    "                               torchvision.transforms.Normalize(\n",
    "                                 (0.1307,), (0.3081,))\n",
    "                             ])),\n",
    "  batch_size=batch_size_test, shuffle=True)"
   ]
  },
  {
   "cell_type": "markdown",
   "id": "presidential-invalid",
   "metadata": {},
   "source": [
    "Now we should check the data to before we define our model"
   ]
  },
  {
   "cell_type": "code",
   "execution_count": 30,
   "id": "quiet-falls",
   "metadata": {},
   "outputs": [
    {
     "name": "stdout",
     "output_type": "stream",
     "text": [
      "Loaded image shape in tensor: torch.Size([10, 1, 28, 28])\n"
     ]
    },
    {
     "data": {
      "image/png": "[encoded data removed]",
      "text/plain": [
       "<Figure size 432x288 with 2 Axes>"
      ]
     },
     "metadata": {
      "needs_background": "light"
     },
     "output_type": "display_data"
    }
   ],
   "source": [
    "# get minibatch\n",
    "x,target = next(iter(train_loader)); x_test,_ = next(iter(test_loader))\n",
    "print('Loaded image shape in tensor:', x.size())\n",
    "fig,axes = plt.subplots(1,2); plt.set_cmap(['gray','viridis'][1]);\n",
    "axes[0].imshow(x[0][0].numpy()); axes[1].imshow(x_test[0][0].detach().numpy());"
   ]
  },
  {
   "cell_type": "code",
   "execution_count": 31,
   "id": "committed-python",
   "metadata": {},
   "outputs": [],
   "source": [
    "input_size = 784\n",
    "encoding_dim = 32\n",
    "learning_rate = 0.01\n",
    "momentum = 0.5\n",
    "log_interval = 10\n",
    "n_epochs = 3"
   ]
  },
  {
   "cell_type": "code",
   "execution_count": 34,
   "id": "ordinary-summit",
   "metadata": {},
   "outputs": [],
   "source": [
    "class Encoder(nn.Module):\n",
    "    def __init__(self, input_size, encoding_dim):\n",
    "        super().__init__()\n",
    "        self.layers = nn.ModuleList(\n",
    "            [nn.Linear(input_size, encoding_dim), \n",
    "             nn.ReLU()])\n",
    "    def forward(self,x):\n",
    "        for layer in self.layers:\n",
    "            x = layer(x)\n",
    "        return x\n",
    "    \n",
    "class Decoder(nn.Module):\n",
    "    def __init__(self, encoding_dim, input_size):\n",
    "        super().__init__()\n",
    "        self.layers = nn.ModuleList(\n",
    "            [nn.Linear(encoding_dim, input_size)])\n",
    "    \n",
    "    def forward(self,z):\n",
    "        for layer in self.layers:\n",
    "            z = layer(z)\n",
    "        return z\n",
    "\n",
    "class Autoencoder(nn.Module):\n",
    "    def __init__(self, input_size = 784, encoding_dim = 32):\n",
    "        super().__init__()\n",
    "        self.encoder = Encoder(input_size, encoding_dim)\n",
    "        self.decoder = Decoder(encoding_dim, input_size)\n",
    "    \n",
    "    def forward(self, x):\n",
    "        x = x.view(x.size(0), -1) # flatten to (nm, 1) vector\n",
    "        x = self.encoder(x) # here we get the latent z\n",
    "        x = self.decoder(x) # here we get the reconsturcted input\n",
    "        x = torch.sigmoid(x)\n",
    "        x = x.reshape(x.size(0), 1,28,28) # reshape this flatten vector to the original image size    \n",
    "        return x\n",
    "    \n",
    "        "
   ]
  },
  {
   "cell_type": "code",
   "execution_count": 35,
   "id": "tired-vintage",
   "metadata": {},
   "outputs": [],
   "source": [
    "autoencoder = Autoencoder(784,32)"
   ]
  },
  {
   "cell_type": "markdown",
   "id": "human-thong",
   "metadata": {},
   "source": [
    "Here is what the initial autoencoder generates."
   ]
  },
  {
   "cell_type": "code",
   "execution_count": 36,
   "id": "perceived-textbook",
   "metadata": {},
   "outputs": [
    {
     "data": {
      "image/png": "[encoded data removed]",
      "text/plain": [
       "<Figure size 432x288 with 2 Axes>"
      ]
     },
     "metadata": {
      "needs_background": "light"
     },
     "output_type": "display_data"
    }
   ],
   "source": [
    "fig,axes = plt.subplots(1,2); plt.set_cmap(['gray','viridis'][1]);\n",
    "axes[0].imshow(x[0][0].numpy()); axes[1].imshow(autoencoder(x)[0][0].detach().numpy());"
   ]
  },
  {
   "cell_type": "markdown",
   "id": "specified-speed",
   "metadata": {},
   "source": [
    "Now we move to define how our autoencoder should be trainned. In this function of `train` we directly include the test data process at the end of training. "
   ]
  },
  {
   "cell_type": "code",
   "execution_count": 49,
   "id": "handed-valve",
   "metadata": {},
   "outputs": [],
   "source": [
    "def train(model, trainloader = None, valloader = None, num_epochs = 1):\n",
    "    device = torch.device('cuda:0' if torch.cuda.is_available() else 'cpu')\n",
    "    \n",
    "    # name dataloaders for phrase\n",
    "    phases = ['train']\n",
    "    dataloaders = {'train':trainloader}\n",
    "    if valloader:\n",
    "        phases.append('valid')\n",
    "        dataloaders['valid'] = valloader\n",
    "        \n",
    "    model.to(device)\n",
    "    optimizer = torch.optim.Adadelta(autoencoder.parameters())\n",
    "    #criterion = F.binary_cross_entropy(autoencoder(x), target)\n",
    "    criterion = torch.nn.BCELoss()\n",
    "    \n",
    "    for epoch in range(num_epochs):\n",
    "        print(f'Epoch {epoch+1}/{num_epochs}\\n{\"-\"*10}')\n",
    "        \n",
    "        for phase in phases:\n",
    "            if phase == 'train':\n",
    "                model.train()\n",
    "            else:\n",
    "                model.eval()\n",
    "                \n",
    "            running_loss, running_correct, count = 0.0, 0, 0\n",
    "            for batch_idx, (x, y) in enumerate(dataloaders[phase]):\n",
    "                x,y = x.to(device), y.to(device)\n",
    "\n",
    "                # zero param gradients\n",
    "                optimizer.zero_grad()\n",
    "\n",
    "                # forward: track history if training phase\n",
    "                with torch.set_grad_enabled(phase=='train'): # pytorch >= 0.4\n",
    "                    outputs = model(x)\n",
    "                    loss    = criterion(outputs, x)\n",
    "                    preds,_ = torch.max(outputs,1) # for accuracy metric\n",
    "                    # backward & optimize if training phase\n",
    "                    if phase == 'train':\n",
    "                        loss.backward()\n",
    "                        optimizer.step()\n",
    "                \n",
    "                # stats\n",
    "                running_loss += loss.item() * x.size(0)\n",
    "                count += len(x)\n",
    "            \n",
    "            epoch_loss = running_loss / count\n",
    "            print(f'{phase} loss {epoch_loss:.6f}')\n",
    "        print()\n",
    "            "
   ]
  },
  {
   "cell_type": "code",
   "execution_count": 50,
   "id": "peripheral-sound",
   "metadata": {},
   "outputs": [
    {
     "name": "stdout",
     "output_type": "stream",
     "text": [
      "Epoch 1/1\n",
      "----------\n",
      "train loss -39.771799\n",
      "valid loss -45.516923\n",
      "\n",
      "CPU times: user 42.6 s, sys: 9.06 s, total: 51.6 s\n",
      "Wall time: 1min 20s\n"
     ]
    }
   ],
   "source": [
    "%time train(autoencoder, trainloader=train_loader, valloader=test_loader, num_epochs=1)"
   ]
  },
  {
   "cell_type": "markdown",
   "id": "wireless-damages",
   "metadata": {},
   "source": [
    "Now we can plot the result of autoencoder to see how closs these two images are"
   ]
  },
  {
   "cell_type": "code",
   "execution_count": 57,
   "id": "spread-hawaiian",
   "metadata": {},
   "outputs": [
    {
     "data": {
      "image/png": "[encoded data removed]",
      "text/plain": [
       "<Figure size 432x288 with 2 Axes>"
      ]
     },
     "metadata": {
      "needs_background": "light"
     },
     "output_type": "display_data"
    }
   ],
   "source": [
    "x,y = next(iter(train_loader))\n",
    "#z = autoencoder(x)\n",
    "device = torch.device('cuda:0' if torch.cuda.is_available() else 'cpu')\n",
    "x = x.to(device)\n",
    "fig,axes = plt.subplots(1,2); plt.set_cmap(['gray','viridis'][1]);\n",
    "axes[0].imshow(x[0][0].cpu()); axes[1].imshow(autoencoder(x)[0][0].detach().cpu());"
   ]
  },
  {
   "cell_type": "markdown",
   "id": "thrown-remainder",
   "metadata": {},
   "source": [
    "## Limitation of autoencoder\n",
    "In the above example, our encoder and decoder architectures have only one layer without non-linearity. Such encoder-deocoder represent linear transformations (the sigmoid function can be removed since it is simply the function to accelerate the training). Our previous example has the same pricinple of principle componet anaysis (PCA). However, PCA define one of the soltuions (basis) that satisfied the minimum of reconstruction error while our autoencoder, indeed, can have several basis that describe the same optimal subspace. It ends up that the new features we have do not have to be independent.\n",
    "\n",
    "With deeper and more complex architectures, teh more the autoencoder can processed to high dimensionality reduction while keeping reconstruction loss low. It invokes an impoartant issue in traditional autoencoder: the lack of interpretable and exploitable structures in the latent space. Beside, once the autoencoder has been trained, we still have no way to produce any new content based on the trained latent space. Key to solve this issue: get the distribution of latent space so we can generate samples from this space ==> Variational Autoencoders (VAE)\n",
    "\n"
   ]
  },
  {
   "cell_type": "code",
   "execution_count": null,
   "id": "unlike-olympus",
   "metadata": {},
   "outputs": [],
   "source": []
  }
 ],
 "metadata": {
  "kernelspec": {
   "display_name": "test3",
   "language": "python",
   "name": "test3"
  },
  "language_info": {
   "codemirror_mode": {
    "name": "ipython",
    "version": 3
   },
   "file_extension": ".py",
   "mimetype": "text/x-python",
   "name": "python",
   "nbconvert_exporter": "python",
   "pygments_lexer": "ipython3",
   "version": "3.7.9"
  }
 },
 "nbformat": 4,
 "nbformat_minor": 5
}

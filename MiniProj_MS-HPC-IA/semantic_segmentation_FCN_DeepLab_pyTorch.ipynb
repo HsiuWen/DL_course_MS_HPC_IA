{
 "cells": [
  {
   "cell_type": "markdown",
   "metadata": {
    "colab_type": "text",
    "id": "view-in-github"
   },
   "source": [
    "<a href=\"https://colab.research.google.com/github/fabienMoutarde/DLcourse/blob/master/semantic_segmentation_FCN_DeepLab_pyTorch.ipynb\" target=\"_parent\"><img src=\"https://colab.research.google.com/assets/colab-badge.svg\" alt=\"Open In Colab\"/></a>"
   ]
  },
  {
   "cell_type": "markdown",
   "metadata": {
    "colab_type": "text",
    "id": "KMdbwOEbeQ0s"
   },
   "source": [
    "# Introduction to Semantic Segmentation\n",
    "    Notebook copied (and very slightly modified by FM) from https://colab.research.google.com/github/spmallick/learnopencv/blob/master/PyTorch-Segmentation-torchvision/intro-seg.ipynb"
   ]
  },
  {
   "cell_type": "markdown",
   "metadata": {
    "colab_type": "text",
    "id": "8L-nWlkceQ06"
   },
   "source": [
    "## What is Semantic Segmentation?\n",
    "\n",
    "Semantic Segmentation is an image analysis task in which we classify each pixel in the image into a class. <br/>\n",
    "\n",
    "Similar to what us humans do all the time by default, when are looking then whatever we are seeing if we think of that as an image\n",
    "then we know what class each pixel of the image belongs to.\n",
    "\n",
    "Essentially, Semantic Segmentation is the technique through which we can achieve this in Computers.\n",
    "\n",
    "There are a few more types of Segmentation, you can read about it more here: https://www.learnopencv.com/image-segmentation/\n",
    "This blog will focus on Semantic Segmentation\n",
    "\n",
    "So, let's say we have the following image.\n",
    "\n",
    "![](https://lh3.googleusercontent.com/-ELUnFgFJqUU/XPPXOOmhfMI/AAAAAAAAAP0/2cabsTI9uGUYxM3O3w4EOxjR_iJvEQAvACK8BGAs/s374/index3.png)\n",
    "<small> Source: Pexels </small>\n",
    "\n",
    "And then given the above image its semantically segmentated image would be the following\n",
    "\n",
    "![](https://lh3.googleusercontent.com/-gdUavPeOxdg/XPPXQngAnvI/AAAAAAAAAQA/yoksBterCGQGt-lv3aX4kfyMUDXTar7yACK8BGAs/s374/index4.png)\n",
    "\n",
    "As you can see, that each pixel in the image is classified to its respective class.\n",
    "\n",
    "This is in most simple terms what Semantic Segmentation is."
   ]
  },
  {
   "cell_type": "markdown",
   "metadata": {
    "colab_type": "text",
    "id": "_mQVy39SeQ1B"
   },
   "source": [
    "## Applications of Segmentation\n",
    "\n",
    "\n",
    "The most common use case for the Semantic Segmentation is in:\n",
    "\n",
    "1. **Autonomous Driving**\n",
    "\n",
    "  <img src=\"https://cdn-images-1.medium.com/max/1600/1*JKmS08bllQ8SCajIPyiBBQ.png\" width=\"400\"/> <br/>\n",
    "  <small> Source: CityScapes Dataset </small>\n",
    "  \n",
    "  In autonomous driving, the image which comes in from the camera is semantically segmented, thus each pixel in the image is classified\n",
    "  into a class. This helps the computer understand what is present in the its surroundings and thus helps the car act accordingly.\n",
    "\n",
    "\n",
    "2. **Facial Segmentation**\n",
    "\n",
    "  <img src=\"https://i.ytimg.com/vi/vrvwfFej_r4/maxresdefault.jpg\" width=\"400\"/> <br/>\n",
    "  <small> Source: https://github.com/massimomauro/FASSEG-repository/blob/master/papers/multiclass_face_segmentation_ICIP2015.pdf </small>\n",
    "\n",
    "  Facial Segmentation is used for segmenting each part of the face into a category, like lips, eyes etc. This technique is used for\n",
    "  many purposes such as gender estimation, age estimation, facial expression analysis, emotional analysis and more.\n",
    "  \n",
    "\n",
    "3. **Indoor Object Segmentation**\n",
    "\n",
    "  <img src=\"https://cs.nyu.edu/~silberman/rmrc2014/header_semantic_segmentation.jpg\" width=\"400\"/><br/>\n",
    "  <small> Source: http://buildingparser.stanford.edu/dataset.html </small>\n",
    "\n",
    "  Guess where is this used? In AR (Augmented Reality) and VR (Virtual Reality). AR applications when required segments the entire indoor area to understand where there \n",
    "  are chairs, tables, people, wall, and other obstacles and so on.\n",
    " \n",
    "\n",
    "4. **Geo-Land Sensing**\n",
    "\n",
    "  <img src=\"https://ars.els-cdn.com/content/image/1-s2.0-S0924271616305305-fx1_lrg.jpg\" width=\"400\"/> <br/>\n",
    "  <small> Source: https://www.sciencedirect.com/science/article/pii/S0924271616305305 </small>\n",
    "\n",
    "  Geo Land Sensing is a way of categorizing each pixel in satellite images into a category such that we can track the land cover of each\n",
    "  area. So, say in some area there is a heavy deforestation taking place then appropriate measures can be taken.\n"
   ]
  },
  {
   "cell_type": "markdown",
   "metadata": {
    "colab_type": "text",
    "id": "ZsIngeXleQ1H"
   },
   "source": [
    "## Using torchvision for Semantic Segmentation\n",
    "\n",
    "Now before we get started, we need to know about the inputs and outputs of these semantic segmentation models.<br/>\n",
    "So, let's start!\n",
    "\n",
    "These models expect a 3-channled image which is normalized with the Imagenet mean and standard deviation, i.e., <br/>\n",
    "`mean = [0.485, 0.456, 0.406], std = [0.229, 0.224, 0.225]`\n",
    "\n",
    "So, the input is `[Ni x Ci x Hi x Wi]`<br/>\n",
    "where,\n",
    "- `Ni` -> the batch size\n",
    "- `Ci` -> the number of channels (which is 3)\n",
    "- `Hi` -> the height of the image\n",
    "- `Wi` -> the width of the image\n",
    "\n",
    "And the output of the model is `[No x Co x Ho x Wo]`<br/>\n",
    "where,\n",
    "- `No` -> is the batch size (same as `Ni`)\n",
    "- `Co` -> **is the number of classes that the dataset have!**\n",
    "- `Ho` -> the height of the image (which is the same as `Hi` in almost all cases)\n",
    "- `Wo` -> the width of the image (which is the same as `Wi` in almost all cases)\n",
    "\n",
    "Now! we are ready to play :)"
   ]
  },
  {
   "cell_type": "markdown",
   "metadata": {
    "colab_type": "text",
    "id": "-r1Pac90eQ1R"
   },
   "source": [
    "### FCN with Resnet-101 backbone"
   ]
  },
  {
   "cell_type": "markdown",
   "metadata": {
    "colab_type": "text",
    "id": "8BNGcmYSUwFM"
   },
   "source": [
    "FCN - Fully Convolutional Netowrks, are among the most early invented Neural Networks for the task of Semantic Segmentation.\n",
    "\n",
    "Let's load one up!"
   ]
  },
  {
   "cell_type": "code",
   "execution_count": 1,
   "metadata": {
    "colab": {
     "base_uri": "https://localhost:8080/",
     "height": 171,
     "referenced_widgets": [
      "8f1876b300bd4a689cb5a8a39323fffa",
      "5f8de78ab985482cb8b3f7c300607bb4",
      "d6fda91bb1d140689cb6bb88ce3cfc5c",
      "6e1bbc3e171f437a94ea0202016b5f7e",
      "1bd0f697d95a4d6bb3be12c4d68f149e",
      "4ab6a5bb0423459cbdcc3612ada99bcf",
      "636b5cbfa6eb459b85e61059077891d8",
      "01a6b5f45a8e4c5f94a0a5f441f506a3",
      "217d4995815f4199a8656429822688b7",
      "7997d32f2f204e7b85e925c03e4d780a",
      "25004833b29142b48fd27cddd57f8c48",
      "fc5592328a1f405099d79c0094995d67",
      "a7f88be6bf4b43a289e3f3af70674c8f",
      "3878fc4d389345bb90fead49eaf5bb8f",
      "e334f2339a274d4caf31c6129a0cd7c5",
      "33cddea0699f4dd8b9ef93e9849d8b0a"
     ]
    },
    "colab_type": "code",
    "id": "jebN_lm9eQ1W",
    "outputId": "a39a6b1e-30a5-4ec1-eaf7-461f9a2622f5"
   },
   "outputs": [
    {
     "name": "stderr",
     "output_type": "stream",
     "text": [
      "/home/kellyjoly/enter/envs/HPC_IA_env/lib/python3.9/site-packages/torchvision/models/_utils.py:208: UserWarning: The parameter 'pretrained' is deprecated since 0.13 and will be removed in 0.15, please use 'weights' instead.\n",
      "  warnings.warn(\n",
      "/home/kellyjoly/enter/envs/HPC_IA_env/lib/python3.9/site-packages/torchvision/models/_utils.py:223: UserWarning: Arguments other than a weight enum or `None` for 'weights' are deprecated since 0.13 and will be removed in 0.15. The current behavior is equivalent to passing `weights=FCN_ResNet101_Weights.COCO_WITH_VOC_LABELS_V1`. You can also use `weights=FCN_ResNet101_Weights.DEFAULT` to get the most up-to-date weights.\n",
      "  warnings.warn(msg)\n"
     ]
    }
   ],
   "source": [
    "from torchvision import models\n",
    "fcn = models.segmentation.fcn_resnet101(pretrained=True).eval()"
   ]
  },
  {
   "cell_type": "markdown",
   "metadata": {
    "colab_type": "text",
    "id": "uUBuc4w1eQ1q"
   },
   "source": [
    "And that's it we have a pretrained model of `FCN` (which stands for Fully Convolutional Neural Networks) with a `Resnet101` backbone :)\n",
    "\n",
    "Now, let's get an image!"
   ]
  },
  {
   "cell_type": "code",
   "execution_count": 2,
   "metadata": {
    "colab": {
     "base_uri": "https://localhost:8080/",
     "height": 872
    },
    "colab_type": "code",
    "id": "shnC_YQLeQ1v",
    "outputId": "8a7b0adf-e822-486b-d5da-7847b6515894"
   },
   "outputs": [
    {
     "name": "stdout",
     "output_type": "stream",
     "text": [
      "torch.cuda.is_available()== FALSE\n",
      "2023-03-21 16:32:35 URL:https://static.independent.co.uk/s3fs-public/thumbnails/image/2018/04/10/19/pinyon-jay-bird.jpg [182965/182965] -> \"bird.png\" [1]\n"
     ]
    },
    {
     "data": {
      "image/png": "[encoded data removed]",
      "text/plain": [
       "<Figure size 432x288 with 1 Axes>"
      ]
     },
     "metadata": {
      "needs_background": "light"
     },
     "output_type": "display_data"
    }
   ],
   "source": [
    "from PIL import Image\n",
    "import matplotlib.pyplot as plt\n",
    "import torch\n",
    "\n",
    "###### CHECK IF torch is using GPU or not  [AJOUT FM] #######\n",
    "cudaOK = torch.cuda.is_available()\n",
    "if cudaOK:\n",
    "    print(\"CUDA available from PyTorch == TRUE\")\n",
    "    print(torch.cuda.get_device_properties(0))\n",
    "else:\n",
    "    print(\"torch.cuda.is_available()== FALSE\")\n",
    "########################################################\n",
    "\n",
    "# Uncomment below ONLY IF RUNNING ON Colab, and if you need access to your GoogleDrive\n",
    "#from google.colab import drive\n",
    "#drive.mount('/content/drive')\n",
    "#!ls \"/content/drive/My Drive\"\n",
    "\n",
    "###### MODIF FM #############\"\n",
    "!wget -nv https://static.independent.co.uk/s3fs-public/thumbnails/image/2018/04/10/19/pinyon-jay-bird.jpg -O bird.png\n",
    "#import wget\n",
    "#imgFile = wget.download(\"https://static.independent.co.uk/s3fs-public/thumbnails/image/2018/04/10/19/pinyon-jay-bird.jpg\")\n",
    "img = Image.open('./bird.png')\n",
    "#img = Image.open('./pinyon-jay-bird.jpg')\n",
    "########################\n",
    "\n",
    "plt.imshow(img); plt.show()"
   ]
  },
  {
   "cell_type": "markdown",
   "metadata": {
    "colab_type": "text",
    "id": "BhUMhvU4eQ2H"
   },
   "source": [
    "Now, that we have the image we need to preprocess it and normalize it! <br/>\n",
    "So, for the preprocessing steps, we:\n",
    "- Resize the image to `(256 x 256)`\n",
    "- CenterCrop it to `(224 x 224)`\n",
    "- Convert it to Tensor - all the values in the image becomes between `[0, 1]` from `[0, 255]`\n",
    "- Normalize it with the Imagenet specific values `mean = [0.485, 0.456, 0.406], std = [0.229, 0.224, 0.225]`\n",
    "\n",
    "And lastly, we unsqueeze the image so that it becomes `[1 x C x H x W]` from `[C x H x W]` <br/>\n",
    "We need a batch dimension while passing it to the models."
   ]
  },
  {
   "cell_type": "code",
   "execution_count": null,
   "metadata": {
    "colab": {},
    "colab_type": "code",
    "id": "8HUEYeNJeQ2N"
   },
   "outputs": [],
   "source": [
    "# Apply the transformations needed\n",
    "import torchvision.transforms as T\n",
    "trf = T.Compose([T.Resize(256),\n",
    "                 T.CenterCrop(224),\n",
    "                 T.ToTensor(), \n",
    "                 T.Normalize(mean = [0.485, 0.456, 0.406], \n",
    "                             std = [0.229, 0.224, 0.225])])\n",
    "inp = trf(img).unsqueeze(0)"
   ]
  },
  {
   "cell_type": "markdown",
   "metadata": {
    "colab_type": "text",
    "id": "m_YJzUCUeQ2Z"
   },
   "source": [
    "Let's see what the above code cell does </br>\n",
    "`T.Compose` is a function that takes in a `list` in which each element is of `transforms` type and </br>\n",
    "it returns a object through which we can\n",
    "pass batches of images and all the required transforms will be applied to the images.\n",
    "\n",
    "Let's take a look at the transforms applied on the images:\n",
    "- `T.Resize(256)` : Resizes the image to size `256 x 256`\n",
    "- `T.CenterCrop(224)` : Center Crops the image to have a resulting size of `224 x 224`\n",
    "- `T.ToTensor()` : Converts the image to type `torch.Tensor` and have values between `[0, 1]`\n",
    "- `T.Normalize(mean, std)` : Normalizes the image with the given mean and standard deviation.\n",
    "\n",
    "Alright! Now that we have the image all preprocessed and ready! Let's pass it through the model and see what we get as from this pre-trained model"
   ]
  },
  {
   "cell_type": "code",
   "execution_count": null,
   "metadata": {},
   "outputs": [],
   "source": [
    "out = fcn(inp)\n",
    "print(type(out))\n",
    "print(out.keys())"
   ]
  },
  {
   "cell_type": "markdown",
   "metadata": {},
   "source": [
    "As you can see, the `torchvision` models outputs an `OrderedDict` and not a `torch.Tensor` <br/>\n",
    "The model returns an OrderedDict with two Tensors that are of the same height and width as the input Tensor, but with 21 classes. `output['out']` contains the semantic masks, and `output['aux']` contains the auxillary loss values per-pixel. In inference mode, `output['aux']` is not useful. So, `output['out']` is of shape `[No x 21 x Ho x Wo]`"
   ]
  },
  {
   "cell_type": "code",
   "execution_count": null,
   "metadata": {
    "colab": {
     "base_uri": "https://localhost:8080/",
     "height": 35
    },
    "colab_type": "code",
    "id": "5QDujuCbeQ2h",
    "outputId": "3f3e4fde-7001-43ac-fd18-329804169f37"
   },
   "outputs": [],
   "source": [
    "# Pass the input through the net\n",
    "out = fcn(inp)['out']\n",
    "print (out.shape)"
   ]
  },
  {
   "cell_type": "markdown",
   "metadata": {
    "colab_type": "text",
    "id": "xn3jqtH_eQ27"
   },
   "source": [
    "Alright! So, `out` is the final output of the model. And as we can see, its shape is `[1 x 21 x H x W]` as discussed earlier. So, the model was trained on `21` classes and thus our output have `21` channels!<br/>\n",
    "\n",
    "Now, what we need to do is make this `21` channeled output into a `2D` image or a `1` channeled image, where each pixel of that image corresponds to a class!\n",
    "\n",
    "So, the `2D` image, (of shape `[H x W]`) will have each pixel corresponding to a class label, and thus <br/>\n",
    "for each `(x, y)` in this `2D` image will correspond to a number between `0 - 20` representing a class.\n",
    "\n",
    "And how do we get there from this `[1 x 21 x H x W]`?<br/>\n",
    "We take a max index for each pixel position, which represents the class<br/>"
   ]
  },
  {
   "cell_type": "code",
   "execution_count": null,
   "metadata": {
    "colab": {
     "base_uri": "https://localhost:8080/",
     "height": 52
    },
    "colab_type": "code",
    "id": "FEWJRobBeQ3A",
    "outputId": "b14f7e59-fedb-42b4-95eb-e011aa50e6dc"
   },
   "outputs": [],
   "source": [
    "import numpy as np\n",
    "om = torch.argmax(out.squeeze(), dim=0).detach().cpu().numpy()\n",
    "print (om.shape)\n",
    "print (np.unique(om))"
   ]
  },
  {
   "cell_type": "markdown",
   "metadata": {
    "colab_type": "text",
    "id": "yrOasC91eQ3X"
   },
   "source": [
    "Alright! So, we can a `2D` image called `om`. Where each pixel corresponds to a class!\n",
    "The last thing is to take this `2D` image where each pixel corresponds to a class label and convert this<br/>\n",
    "into a segmentation map where each class label is converted into a `RGB` color and thus helping in easy visualization.\n",
    "\n",
    "We will use the following function to convert this `2D` image to an `RGB` image wheree each label is mapped to its\n",
    "corresponding color."
   ]
  },
  {
   "cell_type": "code",
   "execution_count": null,
   "metadata": {
    "colab": {},
    "colab_type": "code",
    "id": "5GA_GNohUHnR"
   },
   "outputs": [],
   "source": [
    "# Define the helper function\n",
    "def decode_segmap(image, nc=21):\n",
    "  \n",
    "  label_colors = np.array([(0, 0, 0),  # 0=background\n",
    "               # 1=aeroplane, 2=bicycle, 3=bird, 4=boat, 5=bottle\n",
    "               (128, 0, 0), (0, 128, 0), (128, 128, 0), (0, 0, 128), (128, 0, 128),\n",
    "               # 6=bus, 7=car, 8=cat, 9=chair, 10=cow\n",
    "               (0, 128, 128), (128, 128, 128), (64, 0, 0), (192, 0, 0), (64, 128, 0),\n",
    "               # 11=dining table, 12=dog, 13=horse, 14=motorbike, 15=person\n",
    "               (192, 128, 0), (64, 0, 128), (192, 0, 128), (64, 128, 128), (192, 128, 128),\n",
    "               # 16=potted plant, 17=sheep, 18=sofa, 19=train, 20=tv/monitor\n",
    "               (0, 64, 0), (128, 64, 0), (0, 192, 0), (128, 192, 0), (0, 64, 128)])\n",
    "\n",
    "  r = np.zeros_like(image).astype(np.uint8)\n",
    "  g = np.zeros_like(image).astype(np.uint8)\n",
    "  b = np.zeros_like(image).astype(np.uint8)\n",
    "  \n",
    "  for l in range(0, nc):\n",
    "    idx = image == l\n",
    "    r[idx] = label_colors[l, 0]\n",
    "    g[idx] = label_colors[l, 1]\n",
    "    b[idx] = label_colors[l, 2]\n",
    "    \n",
    "  rgb = np.stack([r, g, b], axis=2)\n",
    "  return rgb"
   ]
  },
  {
   "cell_type": "markdown",
   "metadata": {
    "colab_type": "text",
    "id": "jIH1UIVvUJMi"
   },
   "source": [
    "Let's see what we are doing inside this function!\n",
    "\n",
    "first `label_colors` stores the colors for each of the clases, according to the index </br>\n",
    "So, the color for the  first class which is `background` is stored in the `0`th index of the `label_colors` list, \n",
    "the second class which is `aeroplane` is stored at index `1` of `label_colors`.\n",
    "\n",
    "Now, we are to create an `RGB` image from the `2D` image passed. So, what we do, is we create empty `2D` matrices for all 3 channels.\n",
    "\n",
    "So, `r`, `g`, and `b` are arrays which will form the `RGB` channels for the final image. And each are of shape `[H x W]` \n",
    "(which is same as the shape of `image` passed in)\n",
    "\n",
    "Now, we loop over each class color we stored in `label_colors`.\n",
    "And we get the indexes in the image where that particular class label is present. (`idx = image == l`)\n",
    "And then for each channel, we put its corresponding color to those pixels where that class label is present.\n",
    "\n",
    "And finally we stack the 3 seperate channels to form a `RGB` image.\n",
    "\n",
    "Okay! Now, let's use this function to see the final segmented output!"
   ]
  },
  {
   "cell_type": "code",
   "execution_count": null,
   "metadata": {
    "colab": {
     "base_uri": "https://localhost:8080/",
     "height": 269
    },
    "colab_type": "code",
    "id": "02LtJMO_eQ3c",
    "outputId": "0f3723f9-1a97-4426-febe-f8b5e9056563"
   },
   "outputs": [],
   "source": [
    "rgb = decode_segmap(om)\n",
    "plt.imshow(rgb); plt.show()"
   ]
  },
  {
   "cell_type": "markdown",
   "metadata": {
    "colab_type": "text",
    "id": "lbXzPQoBeQ3w"
   },
   "source": [
    "And there we go!!<br/>\n",
    "Wooohooo! We have segmented the output of the image. \n",
    "\n",
    "That's the bird!\n",
    "\n",
    "Also, Do note that the image after segmentation is smaller than the original image as in the preprocessing step the image is resized and cropped.\n",
    "\n",
    "Next, let's move all this under one function and play with a few more images!"
   ]
  },
  {
   "cell_type": "code",
   "execution_count": null,
   "metadata": {
    "colab": {},
    "colab_type": "code",
    "id": "_yTvVvX7eQ32"
   },
   "outputs": [],
   "source": [
    "def segment(net, path, show_orig=True, dev='cuda'):\n",
    "  img = Image.open(path)\n",
    "  if show_orig: plt.imshow(img); plt.axis('off'); plt.show()\n",
    "  # Comment the Resize and CenterCrop for better inference results\n",
    "  trf = T.Compose([T.Resize(640), \n",
    "                   #T.CenterCrop(224), \n",
    "                   T.ToTensor(), \n",
    "                   T.Normalize(mean = [0.485, 0.456, 0.406], \n",
    "                               std = [0.229, 0.224, 0.225])])\n",
    "  inp = trf(img).unsqueeze(0).to(dev)\n",
    "  out = net.to(dev)(inp)['out']\n",
    "  om = torch.argmax(out.squeeze(), dim=0).detach().cpu().numpy()\n",
    "  rgb = decode_segmap(om)\n",
    "  plt.imshow(rgb); plt.axis('off'); plt.show()"
   ]
  },
  {
   "cell_type": "markdown",
   "metadata": {
    "colab_type": "text",
    "id": "3hRnbZqbeQ4H"
   },
   "source": [
    "And let's get a new image!"
   ]
  },
  {
   "cell_type": "code",
   "execution_count": null,
   "metadata": {
    "colab": {
     "base_uri": "https://localhost:8080/",
     "height": 496
    },
    "colab_type": "code",
    "id": "wX7_viyieQ4K",
    "outputId": "f4b2740c-19e6-4bc7-f18b-7fa2a9052d1b"
   },
   "outputs": [],
   "source": [
    "###### MODIF FM #############\"\n",
    "#!wget -nv https://images.pexels.com/photos/1996333/pexels-photo-1996333.jpeg -O horse.png\n",
    "#import wget\n",
    "#wget.download(\"http://images.pexels.com/photos/1996333/pexels-photo-1996333.jpeg\")\n",
    "#segment(fcn, './pexels-photo-1996333.jpeg')\n",
    "\n",
    "image_file = 'horse.png'\n",
    "# Uncomment below ONLY IF RUNNING ON Colab, and if the test image is on your GoogleDrive\n",
    "#!cp \"/content/drive/My Drive/\"$image_file \".\"\n",
    "#!ls\n",
    "\n",
    "segment(fcn, './horse.png')\n",
    "########################\n"
   ]
  },
  {
   "cell_type": "markdown",
   "metadata": {
    "colab_type": "text",
    "id": "ZLo9m1nOeQ4W"
   },
   "source": [
    "### DeepLabv3\n",
    "\n",
    "DeepLabv3 architecture is proposed to handle the problem of segmenting object at multiple scales,modeuls are designed which employ astrous convolution in cascade or in paralleel to capture multi-scale context by adopting multiple scale of astrous rates. \n",
    "![image](./semantic_segmentation_FCN_DeepLab_pyTorch_fichiers/deeplabv3.png)\n",
    "<small> source: Chen, Liang-Chieh, et al. \"Rethinking atrous convolution for semantic image segmentation.\" arXiv preprint arXiv:1706.05587 (2017).</small>"
   ]
  },
  {
   "cell_type": "code",
   "execution_count": null,
   "metadata": {
    "colab": {
     "base_uri": "https://localhost:8080/",
     "height": 104,
     "referenced_widgets": [
      "b739c2d0adc4498c919da30e3556dc24",
      "b77df64301de4d84b79a334210318782",
      "f2101c98eb4947b5871e178ce3eac6d4",
      "33c2b77ba0ce411c8e4734cad91ebad3",
      "b019f57d330844409685232c13a0d19c",
      "8963022217d542658c57c7177327d217",
      "2582540ab37b4f00906929165766b9c2",
      "fa5a589449e9477598c6746dc35fd6ff"
     ]
    },
    "colab_type": "code",
    "id": "m_CLq1ZfeQ4b",
    "outputId": "2d464b32-0839-48fb-974b-9f40ce4614c8"
   },
   "outputs": [],
   "source": [
    "dlab = models.segmentation.deeplabv3_resnet101(pretrained=1).eval()"
   ]
  },
  {
   "cell_type": "markdown",
   "metadata": {
    "colab_type": "text",
    "id": "SgeogLnLeQ4n"
   },
   "source": [
    "Alright! Now we have god-level segmentation model!<br/>\n",
    "Let's see how we perform with the same image on this model!"
   ]
  },
  {
   "cell_type": "code",
   "execution_count": null,
   "metadata": {
    "colab": {
     "base_uri": "https://localhost:8080/",
     "height": 479
    },
    "colab_type": "code",
    "id": "60vz9GkBeQ4s",
    "outputId": "1b0272d0-a1d9-4900-d084-0d4b6efec90d"
   },
   "outputs": [],
   "source": [
    "segment(dlab, './horse.png')"
   ]
  },
  {
   "cell_type": "markdown",
   "metadata": {
    "colab_type": "text",
    "id": "QQPgPR07euk6"
   },
   "source": [
    "Yeah! So, there you go! You can see that, the DeepLab model has also classified the image quite nicely! </br>\n",
    "But if we take a more complex image! Then we start to see model differences! \n",
    "\n",
    "Note: As we saw before the output image size is smaller than the original image as the original image is resized and cropped in the preprocessing step.\n",
    "\n",
    "Let's try that out!"
   ]
  },
  {
   "cell_type": "code",
   "execution_count": null,
   "metadata": {
    "colab": {
     "base_uri": "https://localhost:8080/",
     "height": 496
    },
    "colab_type": "code",
    "id": "_eVvk2gnycM9",
    "outputId": "e1d0fcc6-6f25-48e7-ee82-d0febdb22242"
   },
   "outputs": [],
   "source": [
    "# Uncomment below ONLY IF RUNNING ON Colab, and if you need access to your GoogleDrive\n",
    "from google.colab import drive\n",
    "drive.mount('/content/drive')\n",
    "!ls \"/content/drive/My Drive\""
   ]
  },
  {
   "cell_type": "code",
   "execution_count": null,
   "metadata": {
    "colab": {
     "base_uri": "https://localhost:8080/",
     "height": 784
    },
    "colab_type": "code",
    "id": "NIVWe_asNECq",
    "outputId": "f1933d3f-3547-4289-9470-f90154b8d31c"
   },
   "outputs": [],
   "source": [
    "from PIL import Image\n",
    "import matplotlib.pyplot as plt\n",
    "\n",
    "#!wget -nv \"https://commons.wikimedia.org/wiki/File:Koeien_melken,_Bestanddeelnr_254-7425.jpg\" -O person-cow.jpeg\n",
    "#wget.download('https://commons.wikimedia.org/wiki/File:Koeien_melken,_Bestanddeelnr_254-7425.jpg')\n",
    "\n",
    "# Uncomment below ONLY IF RUNNING ON Colab, and if the test image is on your GoogleDrive\n",
    "#image_file = 'person-cow.jpeg'\n",
    "#!cp \"/content/drive/My Drive/\"$image_file \".\"\n",
    "#!ls\n",
    "imag_path = 'semantic_segmentation_FCN_DeepLab_pyTorch_fichiers/person-cow.jpeg'\n",
    "img = Image.open(imag_path)\n",
    "plt.imshow(img); plt.show()\n",
    "\n",
    "print ('Segmentation Image on FCN')\n",
    "segment(fcn, path=imag_path, show_orig=False)\n",
    "\n",
    "print ('Segmentation Image on DeepLabv3')\n",
    "segment(dlab, path=imag_path, show_orig=False)"
   ]
  },
  {
   "cell_type": "markdown",
   "metadata": {
    "colab_type": "text",
    "id": "xnE4pUeWQEAy"
   },
   "source": [
    "Okay! You can now see the model differences right?\n",
    "\n",
    "You can see how FCN fails to capture the continuity of the leg of the cow while DeepLabv3 is able to capture that!\n",
    "\n",
    "Also, if we look closer into the hand of the human which is on the cow, we can see that the FCN model captures it nicely, not very nicely, but still, while the DeepLabv3 model has captured it too but not that well!\n",
    "\n",
    "These are a few model differences that be noticed with bare eyes!\n",
    "\n",
    "Note: As we saw before the output image size is smaller than the original image as the original image is resized and cropped in the preprocessing step.\n",
    "\n",
    "Do play around with a few more images to see how these models perform in different scenarios.!"
   ]
  },
  {
   "attachments": {},
   "cell_type": "markdown",
   "metadata": {
    "colab_type": "text",
    "id": "CMarUT1gPw6h"
   },
   "source": [
    "## **MINI-PROJECT on images for autonomous driving:**\n",
    "\n",
    "Download [Segmentation-dataset.rar](https://cloud.mines-paristech.fr/index.php/s/Z7M1FuTOe4uf7pl) **large (1,5 Go)** archive containing (1) [CARLA] (https://carla.readthedocs.io/en/stable/cameras_and_sensors/#camera-semantic-segmentation) folders \"116\" with labels and \"115 \" without. (2) [SynthIA-RAND (CVPR16])](https://synthia-dataset.net/downloads/) dataset. 11 basic classes: void, sky, building, road, sidewalk, fence, vegetation, pole, car, sign, pedestrian, cyclist\n",
    "\n",
    "**1/ add code cells (at the end of the notebook) in order to test both segmentation convNets on several [CARLA](https://carla.org/) images and on real image (from subfolder `example_front-imageREAL.png`).**\n",
    "![image](./semantic_segmentation_FCN_DeepLab_pyTorch_fichiers/example_front-imageREAL.png)\n",
    "\n",
    "**2/ Train the FCN and DeepLab segmentation convNets on CARLA images:**\n",
    "\n",
    "Carefully read the doc/tutorial/examples from https://pytorch.org that explain how to perform training/fine-tuning of the above pre-trained models.\n",
    "Then, **add in the notebook the code for loading the CARLA-trainingSet, and for either re-training \"from-scratch\" one of the segmentation ConvNets, or applying transfer-learning on one of the segmentation ConvNets.**\n",
    "\n",
    "**3/ Test, and compare with pre-trained version, the learnt segmentation convNet(s) on CARLA images on independant images: different sequence, different simulator (SynthIA), or real images**"
   ]
  },
  {
   "cell_type": "code",
   "execution_count": null,
   "metadata": {
    "colab": {},
    "colab_type": "code",
    "id": "DY3pzGAPQB4j"
   },
   "outputs": [],
   "source": []
  }
 ],
 "metadata": {
  "accelerator": "GPU",
  "colab": {
   "collapsed_sections": [],
   "include_colab_link": true,
   "name": "semantic-segmentation_FCN-DeepLab_pyTorch.ipynb",
   "provenance": []
  },
  "kernelspec": {
   "display_name": "HPC_IA_env",
   "language": "python",
   "name": "hpc_ia_env"
  },
  "language_info": {
   "codemirror_mode": {
    "name": "ipython",
    "version": 3
   },
   "file_extension": ".py",
   "mimetype": "text/x-python",
   "name": "python",
   "nbconvert_exporter": "python",
   "pygments_lexer": "ipython3",
   "version": "3.9.15"
  },
  "widgets": {
   "application/vnd.jupyter.widget-state+json": {
    "01a6b5f45a8e4c5f94a0a5f441f506a3": {
     "model_module": "@jupyter-widgets/base",
     "model_name": "LayoutModel",
     "state": {
      "_model_module": "@jupyter-widgets/base",
      "_model_module_version": "1.2.0",
      "_model_name": "LayoutModel",
      "_view_count": null,
      "_view_module": "@jupyter-widgets/base",
      "_view_module_version": "1.2.0",
      "_view_name": "LayoutView",
      "align_content": null,
      "align_items": null,
      "align_self": null,
      "border": null,
      "bottom": null,
      "display": null,
      "flex": null,
      "flex_flow": null,
      "grid_area": null,
      "grid_auto_columns": null,
      "grid_auto_flow": null,
      "grid_auto_rows": null,
      "grid_column": null,
      "grid_gap": null,
      "grid_row": null,
      "grid_template_areas": null,
      "grid_template_columns": null,
      "grid_template_rows": null,
      "height": null,
      "justify_content": null,
      "justify_items": null,
      "left": null,
      "margin": null,
      "max_height": null,
      "max_width": null,
      "min_height": null,
      "min_width": null,
      "object_fit": null,
      "object_position": null,
      "order": null,
      "overflow": null,
      "overflow_x": null,
      "overflow_y": null,
      "padding": null,
      "right": null,
      "top": null,
      "visibility": null,
      "width": null
     }
    },
    "1bd0f697d95a4d6bb3be12c4d68f149e": {
     "model_module": "@jupyter-widgets/controls",
     "model_name": "ProgressStyleModel",
     "state": {
      "_model_module": "@jupyter-widgets/controls",
      "_model_module_version": "1.5.0",
      "_model_name": "ProgressStyleModel",
      "_view_count": null,
      "_view_module": "@jupyter-widgets/base",
      "_view_module_version": "1.2.0",
      "_view_name": "StyleView",
      "bar_color": null,
      "description_width": ""
     }
    },
    "217d4995815f4199a8656429822688b7": {
     "model_module": "@jupyter-widgets/controls",
     "model_name": "HBoxModel",
     "state": {
      "_dom_classes": [],
      "_model_module": "@jupyter-widgets/controls",
      "_model_module_version": "1.5.0",
      "_model_name": "HBoxModel",
      "_view_count": null,
      "_view_module": "@jupyter-widgets/controls",
      "_view_module_version": "1.5.0",
      "_view_name": "HBoxView",
      "box_style": "",
      "children": [
       "IPY_MODEL_25004833b29142b48fd27cddd57f8c48",
       "IPY_MODEL_fc5592328a1f405099d79c0094995d67"
      ],
      "layout": "IPY_MODEL_7997d32f2f204e7b85e925c03e4d780a"
     }
    },
    "25004833b29142b48fd27cddd57f8c48": {
     "model_module": "@jupyter-widgets/controls",
     "model_name": "IntProgressModel",
     "state": {
      "_dom_classes": [],
      "_model_module": "@jupyter-widgets/controls",
      "_model_module_version": "1.5.0",
      "_model_name": "IntProgressModel",
      "_view_count": null,
      "_view_module": "@jupyter-widgets/controls",
      "_view_module_version": "1.5.0",
      "_view_name": "ProgressView",
      "bar_style": "success",
      "description": "",
      "description_tooltip": null,
      "layout": "IPY_MODEL_3878fc4d389345bb90fead49eaf5bb8f",
      "max": 217800805,
      "min": 0,
      "orientation": "horizontal",
      "style": "IPY_MODEL_a7f88be6bf4b43a289e3f3af70674c8f",
      "value": 217800805
     }
    },
    "2582540ab37b4f00906929165766b9c2": {
     "model_module": "@jupyter-widgets/controls",
     "model_name": "DescriptionStyleModel",
     "state": {
      "_model_module": "@jupyter-widgets/controls",
      "_model_module_version": "1.5.0",
      "_model_name": "DescriptionStyleModel",
      "_view_count": null,
      "_view_module": "@jupyter-widgets/base",
      "_view_module_version": "1.2.0",
      "_view_name": "StyleView",
      "description_width": ""
     }
    },
    "33c2b77ba0ce411c8e4734cad91ebad3": {
     "model_module": "@jupyter-widgets/controls",
     "model_name": "HTMLModel",
     "state": {
      "_dom_classes": [],
      "_model_module": "@jupyter-widgets/controls",
      "_model_module_version": "1.5.0",
      "_model_name": "HTMLModel",
      "_view_count": null,
      "_view_module": "@jupyter-widgets/controls",
      "_view_module_version": "1.5.0",
      "_view_name": "HTMLView",
      "description": "",
      "description_tooltip": null,
      "layout": "IPY_MODEL_fa5a589449e9477598c6746dc35fd6ff",
      "placeholder": "​",
      "style": "IPY_MODEL_2582540ab37b4f00906929165766b9c2",
      "value": "100% 233M/233M [00:03&lt;00:00, 69.9MB/s]"
     }
    },
    "33cddea0699f4dd8b9ef93e9849d8b0a": {
     "model_module": "@jupyter-widgets/base",
     "model_name": "LayoutModel",
     "state": {
      "_model_module": "@jupyter-widgets/base",
      "_model_module_version": "1.2.0",
      "_model_name": "LayoutModel",
      "_view_count": null,
      "_view_module": "@jupyter-widgets/base",
      "_view_module_version": "1.2.0",
      "_view_name": "LayoutView",
      "align_content": null,
      "align_items": null,
      "align_self": null,
      "border": null,
      "bottom": null,
      "display": null,
      "flex": null,
      "flex_flow": null,
      "grid_area": null,
      "grid_auto_columns": null,
      "grid_auto_flow": null,
      "grid_auto_rows": null,
      "grid_column": null,
      "grid_gap": null,
      "grid_row": null,
      "grid_template_areas": null,
      "grid_template_columns": null,
      "grid_template_rows": null,
      "height": null,
      "justify_content": null,
      "justify_items": null,
      "left": null,
      "margin": null,
      "max_height": null,
      "max_width": null,
      "min_height": null,
      "min_width": null,
      "object_fit": null,
      "object_position": null,
      "order": null,
      "overflow": null,
      "overflow_x": null,
      "overflow_y": null,
      "padding": null,
      "right": null,
      "top": null,
      "visibility": null,
      "width": null
     }
    },
    "3878fc4d389345bb90fead49eaf5bb8f": {
     "model_module": "@jupyter-widgets/base",
     "model_name": "LayoutModel",
     "state": {
      "_model_module": "@jupyter-widgets/base",
      "_model_module_version": "1.2.0",
      "_model_name": "LayoutModel",
      "_view_count": null,
      "_view_module": "@jupyter-widgets/base",
      "_view_module_version": "1.2.0",
      "_view_name": "LayoutView",
      "align_content": null,
      "align_items": null,
      "align_self": null,
      "border": null,
      "bottom": null,
      "display": null,
      "flex": null,
      "flex_flow": null,
      "grid_area": null,
      "grid_auto_columns": null,
      "grid_auto_flow": null,
      "grid_auto_rows": null,
      "grid_column": null,
      "grid_gap": null,
      "grid_row": null,
      "grid_template_areas": null,
      "grid_template_columns": null,
      "grid_template_rows": null,
      "height": null,
      "justify_content": null,
      "justify_items": null,
      "left": null,
      "margin": null,
      "max_height": null,
      "max_width": null,
      "min_height": null,
      "min_width": null,
      "object_fit": null,
      "object_position": null,
      "order": null,
      "overflow": null,
      "overflow_x": null,
      "overflow_y": null,
      "padding": null,
      "right": null,
      "top": null,
      "visibility": null,
      "width": null
     }
    },
    "4ab6a5bb0423459cbdcc3612ada99bcf": {
     "model_module": "@jupyter-widgets/base",
     "model_name": "LayoutModel",
     "state": {
      "_model_module": "@jupyter-widgets/base",
      "_model_module_version": "1.2.0",
      "_model_name": "LayoutModel",
      "_view_count": null,
      "_view_module": "@jupyter-widgets/base",
      "_view_module_version": "1.2.0",
      "_view_name": "LayoutView",
      "align_content": null,
      "align_items": null,
      "align_self": null,
      "border": null,
      "bottom": null,
      "display": null,
      "flex": null,
      "flex_flow": null,
      "grid_area": null,
      "grid_auto_columns": null,
      "grid_auto_flow": null,
      "grid_auto_rows": null,
      "grid_column": null,
      "grid_gap": null,
      "grid_row": null,
      "grid_template_areas": null,
      "grid_template_columns": null,
      "grid_template_rows": null,
      "height": null,
      "justify_content": null,
      "justify_items": null,
      "left": null,
      "margin": null,
      "max_height": null,
      "max_width": null,
      "min_height": null,
      "min_width": null,
      "object_fit": null,
      "object_position": null,
      "order": null,
      "overflow": null,
      "overflow_x": null,
      "overflow_y": null,
      "padding": null,
      "right": null,
      "top": null,
      "visibility": null,
      "width": null
     }
    },
    "5f8de78ab985482cb8b3f7c300607bb4": {
     "model_module": "@jupyter-widgets/base",
     "model_name": "LayoutModel",
     "state": {
      "_model_module": "@jupyter-widgets/base",
      "_model_module_version": "1.2.0",
      "_model_name": "LayoutModel",
      "_view_count": null,
      "_view_module": "@jupyter-widgets/base",
      "_view_module_version": "1.2.0",
      "_view_name": "LayoutView",
      "align_content": null,
      "align_items": null,
      "align_self": null,
      "border": null,
      "bottom": null,
      "display": null,
      "flex": null,
      "flex_flow": null,
      "grid_area": null,
      "grid_auto_columns": null,
      "grid_auto_flow": null,
      "grid_auto_rows": null,
      "grid_column": null,
      "grid_gap": null,
      "grid_row": null,
      "grid_template_areas": null,
      "grid_template_columns": null,
      "grid_template_rows": null,
      "height": null,
      "justify_content": null,
      "justify_items": null,
      "left": null,
      "margin": null,
      "max_height": null,
      "max_width": null,
      "min_height": null,
      "min_width": null,
      "object_fit": null,
      "object_position": null,
      "order": null,
      "overflow": null,
      "overflow_x": null,
      "overflow_y": null,
      "padding": null,
      "right": null,
      "top": null,
      "visibility": null,
      "width": null
     }
    },
    "636b5cbfa6eb459b85e61059077891d8": {
     "model_module": "@jupyter-widgets/controls",
     "model_name": "DescriptionStyleModel",
     "state": {
      "_model_module": "@jupyter-widgets/controls",
      "_model_module_version": "1.5.0",
      "_model_name": "DescriptionStyleModel",
      "_view_count": null,
      "_view_module": "@jupyter-widgets/base",
      "_view_module_version": "1.2.0",
      "_view_name": "StyleView",
      "description_width": ""
     }
    },
    "6e1bbc3e171f437a94ea0202016b5f7e": {
     "model_module": "@jupyter-widgets/controls",
     "model_name": "HTMLModel",
     "state": {
      "_dom_classes": [],
      "_model_module": "@jupyter-widgets/controls",
      "_model_module_version": "1.5.0",
      "_model_name": "HTMLModel",
      "_view_count": null,
      "_view_module": "@jupyter-widgets/controls",
      "_view_module_version": "1.5.0",
      "_view_name": "HTMLView",
      "description": "",
      "description_tooltip": null,
      "layout": "IPY_MODEL_01a6b5f45a8e4c5f94a0a5f441f506a3",
      "placeholder": "​",
      "style": "IPY_MODEL_636b5cbfa6eb459b85e61059077891d8",
      "value": "100% 170M/170M [00:01&lt;00:00, 105MB/s]"
     }
    },
    "7997d32f2f204e7b85e925c03e4d780a": {
     "model_module": "@jupyter-widgets/base",
     "model_name": "LayoutModel",
     "state": {
      "_model_module": "@jupyter-widgets/base",
      "_model_module_version": "1.2.0",
      "_model_name": "LayoutModel",
      "_view_count": null,
      "_view_module": "@jupyter-widgets/base",
      "_view_module_version": "1.2.0",
      "_view_name": "LayoutView",
      "align_content": null,
      "align_items": null,
      "align_self": null,
      "border": null,
      "bottom": null,
      "display": null,
      "flex": null,
      "flex_flow": null,
      "grid_area": null,
      "grid_auto_columns": null,
      "grid_auto_flow": null,
      "grid_auto_rows": null,
      "grid_column": null,
      "grid_gap": null,
      "grid_row": null,
      "grid_template_areas": null,
      "grid_template_columns": null,
      "grid_template_rows": null,
      "height": null,
      "justify_content": null,
      "justify_items": null,
      "left": null,
      "margin": null,
      "max_height": null,
      "max_width": null,
      "min_height": null,
      "min_width": null,
      "object_fit": null,
      "object_position": null,
      "order": null,
      "overflow": null,
      "overflow_x": null,
      "overflow_y": null,
      "padding": null,
      "right": null,
      "top": null,
      "visibility": null,
      "width": null
     }
    },
    "8963022217d542658c57c7177327d217": {
     "model_module": "@jupyter-widgets/base",
     "model_name": "LayoutModel",
     "state": {
      "_model_module": "@jupyter-widgets/base",
      "_model_module_version": "1.2.0",
      "_model_name": "LayoutModel",
      "_view_count": null,
      "_view_module": "@jupyter-widgets/base",
      "_view_module_version": "1.2.0",
      "_view_name": "LayoutView",
      "align_content": null,
      "align_items": null,
      "align_self": null,
      "border": null,
      "bottom": null,
      "display": null,
      "flex": null,
      "flex_flow": null,
      "grid_area": null,
      "grid_auto_columns": null,
      "grid_auto_flow": null,
      "grid_auto_rows": null,
      "grid_column": null,
      "grid_gap": null,
      "grid_row": null,
      "grid_template_areas": null,
      "grid_template_columns": null,
      "grid_template_rows": null,
      "height": null,
      "justify_content": null,
      "justify_items": null,
      "left": null,
      "margin": null,
      "max_height": null,
      "max_width": null,
      "min_height": null,
      "min_width": null,
      "object_fit": null,
      "object_position": null,
      "order": null,
      "overflow": null,
      "overflow_x": null,
      "overflow_y": null,
      "padding": null,
      "right": null,
      "top": null,
      "visibility": null,
      "width": null
     }
    },
    "8f1876b300bd4a689cb5a8a39323fffa": {
     "model_module": "@jupyter-widgets/controls",
     "model_name": "HBoxModel",
     "state": {
      "_dom_classes": [],
      "_model_module": "@jupyter-widgets/controls",
      "_model_module_version": "1.5.0",
      "_model_name": "HBoxModel",
      "_view_count": null,
      "_view_module": "@jupyter-widgets/controls",
      "_view_module_version": "1.5.0",
      "_view_name": "HBoxView",
      "box_style": "",
      "children": [
       "IPY_MODEL_d6fda91bb1d140689cb6bb88ce3cfc5c",
       "IPY_MODEL_6e1bbc3e171f437a94ea0202016b5f7e"
      ],
      "layout": "IPY_MODEL_5f8de78ab985482cb8b3f7c300607bb4"
     }
    },
    "a7f88be6bf4b43a289e3f3af70674c8f": {
     "model_module": "@jupyter-widgets/controls",
     "model_name": "ProgressStyleModel",
     "state": {
      "_model_module": "@jupyter-widgets/controls",
      "_model_module_version": "1.5.0",
      "_model_name": "ProgressStyleModel",
      "_view_count": null,
      "_view_module": "@jupyter-widgets/base",
      "_view_module_version": "1.2.0",
      "_view_name": "StyleView",
      "bar_color": null,
      "description_width": ""
     }
    },
    "b019f57d330844409685232c13a0d19c": {
     "model_module": "@jupyter-widgets/controls",
     "model_name": "ProgressStyleModel",
     "state": {
      "_model_module": "@jupyter-widgets/controls",
      "_model_module_version": "1.5.0",
      "_model_name": "ProgressStyleModel",
      "_view_count": null,
      "_view_module": "@jupyter-widgets/base",
      "_view_module_version": "1.2.0",
      "_view_name": "StyleView",
      "bar_color": null,
      "description_width": ""
     }
    },
    "b739c2d0adc4498c919da30e3556dc24": {
     "model_module": "@jupyter-widgets/controls",
     "model_name": "HBoxModel",
     "state": {
      "_dom_classes": [],
      "_model_module": "@jupyter-widgets/controls",
      "_model_module_version": "1.5.0",
      "_model_name": "HBoxModel",
      "_view_count": null,
      "_view_module": "@jupyter-widgets/controls",
      "_view_module_version": "1.5.0",
      "_view_name": "HBoxView",
      "box_style": "",
      "children": [
       "IPY_MODEL_f2101c98eb4947b5871e178ce3eac6d4",
       "IPY_MODEL_33c2b77ba0ce411c8e4734cad91ebad3"
      ],
      "layout": "IPY_MODEL_b77df64301de4d84b79a334210318782"
     }
    },
    "b77df64301de4d84b79a334210318782": {
     "model_module": "@jupyter-widgets/base",
     "model_name": "LayoutModel",
     "state": {
      "_model_module": "@jupyter-widgets/base",
      "_model_module_version": "1.2.0",
      "_model_name": "LayoutModel",
      "_view_count": null,
      "_view_module": "@jupyter-widgets/base",
      "_view_module_version": "1.2.0",
      "_view_name": "LayoutView",
      "align_content": null,
      "align_items": null,
      "align_self": null,
      "border": null,
      "bottom": null,
      "display": null,
      "flex": null,
      "flex_flow": null,
      "grid_area": null,
      "grid_auto_columns": null,
      "grid_auto_flow": null,
      "grid_auto_rows": null,
      "grid_column": null,
      "grid_gap": null,
      "grid_row": null,
      "grid_template_areas": null,
      "grid_template_columns": null,
      "grid_template_rows": null,
      "height": null,
      "justify_content": null,
      "justify_items": null,
      "left": null,
      "margin": null,
      "max_height": null,
      "max_width": null,
      "min_height": null,
      "min_width": null,
      "object_fit": null,
      "object_position": null,
      "order": null,
      "overflow": null,
      "overflow_x": null,
      "overflow_y": null,
      "padding": null,
      "right": null,
      "top": null,
      "visibility": null,
      "width": null
     }
    },
    "d6fda91bb1d140689cb6bb88ce3cfc5c": {
     "model_module": "@jupyter-widgets/controls",
     "model_name": "IntProgressModel",
     "state": {
      "_dom_classes": [],
      "_model_module": "@jupyter-widgets/controls",
      "_model_module_version": "1.5.0",
      "_model_name": "IntProgressModel",
      "_view_count": null,
      "_view_module": "@jupyter-widgets/controls",
      "_view_module_version": "1.5.0",
      "_view_name": "ProgressView",
      "bar_style": "success",
      "description": "",
      "description_tooltip": null,
      "layout": "IPY_MODEL_4ab6a5bb0423459cbdcc3612ada99bcf",
      "max": 178728960,
      "min": 0,
      "orientation": "horizontal",
      "style": "IPY_MODEL_1bd0f697d95a4d6bb3be12c4d68f149e",
      "value": 178728960
     }
    },
    "e334f2339a274d4caf31c6129a0cd7c5": {
     "model_module": "@jupyter-widgets/controls",
     "model_name": "DescriptionStyleModel",
     "state": {
      "_model_module": "@jupyter-widgets/controls",
      "_model_module_version": "1.5.0",
      "_model_name": "DescriptionStyleModel",
      "_view_count": null,
      "_view_module": "@jupyter-widgets/base",
      "_view_module_version": "1.2.0",
      "_view_name": "StyleView",
      "description_width": ""
     }
    },
    "f2101c98eb4947b5871e178ce3eac6d4": {
     "model_module": "@jupyter-widgets/controls",
     "model_name": "IntProgressModel",
     "state": {
      "_dom_classes": [],
      "_model_module": "@jupyter-widgets/controls",
      "_model_module_version": "1.5.0",
      "_model_name": "IntProgressModel",
      "_view_count": null,
      "_view_module": "@jupyter-widgets/controls",
      "_view_module_version": "1.5.0",
      "_view_name": "ProgressView",
      "bar_style": "success",
      "description": "",
      "description_tooltip": null,
      "layout": "IPY_MODEL_8963022217d542658c57c7177327d217",
      "max": 244545539,
      "min": 0,
      "orientation": "horizontal",
      "style": "IPY_MODEL_b019f57d330844409685232c13a0d19c",
      "value": 244545539
     }
    },
    "fa5a589449e9477598c6746dc35fd6ff": {
     "model_module": "@jupyter-widgets/base",
     "model_name": "LayoutModel",
     "state": {
      "_model_module": "@jupyter-widgets/base",
      "_model_module_version": "1.2.0",
      "_model_name": "LayoutModel",
      "_view_count": null,
      "_view_module": "@jupyter-widgets/base",
      "_view_module_version": "1.2.0",
      "_view_name": "LayoutView",
      "align_content": null,
      "align_items": null,
      "align_self": null,
      "border": null,
      "bottom": null,
      "display": null,
      "flex": null,
      "flex_flow": null,
      "grid_area": null,
      "grid_auto_columns": null,
      "grid_auto_flow": null,
      "grid_auto_rows": null,
      "grid_column": null,
      "grid_gap": null,
      "grid_row": null,
      "grid_template_areas": null,
      "grid_template_columns": null,
      "grid_template_rows": null,
      "height": null,
      "justify_content": null,
      "justify_items": null,
      "left": null,
      "margin": null,
      "max_height": null,
      "max_width": null,
      "min_height": null,
      "min_width": null,
      "object_fit": null,
      "object_position": null,
      "order": null,
      "overflow": null,
      "overflow_x": null,
      "overflow_y": null,
      "padding": null,
      "right": null,
      "top": null,
      "visibility": null,
      "width": null
     }
    },
    "fc5592328a1f405099d79c0094995d67": {
     "model_module": "@jupyter-widgets/controls",
     "model_name": "HTMLModel",
     "state": {
      "_dom_classes": [],
      "_model_module": "@jupyter-widgets/controls",
      "_model_module_version": "1.5.0",
      "_model_name": "HTMLModel",
      "_view_count": null,
      "_view_module": "@jupyter-widgets/controls",
      "_view_module_version": "1.5.0",
      "_view_name": "HTMLView",
      "description": "",
      "description_tooltip": null,
      "layout": "IPY_MODEL_33cddea0699f4dd8b9ef93e9849d8b0a",
      "placeholder": "​",
      "style": "IPY_MODEL_e334f2339a274d4caf31c6129a0cd7c5",
      "value": "100% 208M/208M [00:12&lt;00:00, 17.0MB/s]"
     }
    }
   }
  }
 },
 "nbformat": 4,
 "nbformat_minor": 1
}
